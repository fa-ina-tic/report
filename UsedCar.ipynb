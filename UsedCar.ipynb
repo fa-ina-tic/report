{
 "cells": [
  {
   "cell_type": "markdown",
   "metadata": {},
   "source": [
    "# 중고차 가격 예측\n",
    "데이터 출처 : https://www.kaggle.com/datasets/adityadesai13/used-car-dataset-ford-and-mercedes?select=vw.csv  \n",
    "수정 데이터 출처 : https://www.datamanim.com/dataset/03_dataq/typetwo.html#id16  \n",
    "\n",
    "x_train: https://raw.githubusercontent.com/Datamanim/datarepo/main/carsprice/X_train.csv  \n",
    "y_train: https://raw.githubusercontent.com/Datamanim/datarepo/main/carsprice/y_train.csv  \n",
    "x_test: https://raw.githubusercontent.com/Datamanim/datarepo/main/carsprice/X_test.csv  \n",
    "x_label(평가용) : https://raw.githubusercontent.com/Datamanim/datarepo/main/carsprice/y_test.csv  \n",
    "\n",
    "project file(.ipynb) : https://github.com/fa-ina-tic/report/blob/main/UsedCar.ipynb"
   ]
  },
  {
   "cell_type": "code",
   "execution_count": 62,
   "metadata": {},
   "outputs": [
    {
     "data": {
      "text/html": [
       "<div>\n",
       "<style scoped>\n",
       "    .dataframe tbody tr th:only-of-type {\n",
       "        vertical-align: middle;\n",
       "    }\n",
       "\n",
       "    .dataframe tbody tr th {\n",
       "        vertical-align: top;\n",
       "    }\n",
       "\n",
       "    .dataframe thead th {\n",
       "        text-align: right;\n",
       "    }\n",
       "</style>\n",
       "<table border=\"1\" class=\"dataframe\">\n",
       "  <thead>\n",
       "    <tr style=\"text-align: right;\">\n",
       "      <th></th>\n",
       "      <th>carID</th>\n",
       "      <th>brand</th>\n",
       "      <th>model</th>\n",
       "      <th>year</th>\n",
       "      <th>transmission</th>\n",
       "      <th>mileage</th>\n",
       "      <th>fuelType</th>\n",
       "      <th>tax</th>\n",
       "      <th>mpg</th>\n",
       "      <th>engineSize</th>\n",
       "    </tr>\n",
       "  </thead>\n",
       "  <tbody>\n",
       "    <tr>\n",
       "      <th>0</th>\n",
       "      <td>13207</td>\n",
       "      <td>hyundi</td>\n",
       "      <td>Santa Fe</td>\n",
       "      <td>2019</td>\n",
       "      <td>Semi-Auto</td>\n",
       "      <td>4223</td>\n",
       "      <td>Diesel</td>\n",
       "      <td>145.0</td>\n",
       "      <td>39.8</td>\n",
       "      <td>2.2</td>\n",
       "    </tr>\n",
       "    <tr>\n",
       "      <th>1</th>\n",
       "      <td>17314</td>\n",
       "      <td>vauxhall</td>\n",
       "      <td>GTC</td>\n",
       "      <td>2015</td>\n",
       "      <td>Manual</td>\n",
       "      <td>47870</td>\n",
       "      <td>Diesel</td>\n",
       "      <td>125.0</td>\n",
       "      <td>60.1</td>\n",
       "      <td>2.0</td>\n",
       "    </tr>\n",
       "    <tr>\n",
       "      <th>2</th>\n",
       "      <td>12342</td>\n",
       "      <td>audi</td>\n",
       "      <td>RS4</td>\n",
       "      <td>2019</td>\n",
       "      <td>Automatic</td>\n",
       "      <td>5151</td>\n",
       "      <td>Petrol</td>\n",
       "      <td>145.0</td>\n",
       "      <td>29.1</td>\n",
       "      <td>2.9</td>\n",
       "    </tr>\n",
       "    <tr>\n",
       "      <th>3</th>\n",
       "      <td>13426</td>\n",
       "      <td>vw</td>\n",
       "      <td>Scirocco</td>\n",
       "      <td>2016</td>\n",
       "      <td>Automatic</td>\n",
       "      <td>20423</td>\n",
       "      <td>Diesel</td>\n",
       "      <td>30.0</td>\n",
       "      <td>57.6</td>\n",
       "      <td>2.0</td>\n",
       "    </tr>\n",
       "    <tr>\n",
       "      <th>4</th>\n",
       "      <td>16004</td>\n",
       "      <td>skoda</td>\n",
       "      <td>Scala</td>\n",
       "      <td>2020</td>\n",
       "      <td>Semi-Auto</td>\n",
       "      <td>3569</td>\n",
       "      <td>Petrol</td>\n",
       "      <td>145.0</td>\n",
       "      <td>47.1</td>\n",
       "      <td>1.0</td>\n",
       "    </tr>\n",
       "  </tbody>\n",
       "</table>\n",
       "</div>"
      ],
      "text/plain": [
       "   carID     brand      model  year transmission  mileage fuelType    tax  \\\n",
       "0  13207    hyundi   Santa Fe  2019    Semi-Auto     4223   Diesel  145.0   \n",
       "1  17314  vauxhall        GTC  2015       Manual    47870   Diesel  125.0   \n",
       "2  12342      audi        RS4  2019    Automatic     5151   Petrol  145.0   \n",
       "3  13426        vw   Scirocco  2016    Automatic    20423   Diesel   30.0   \n",
       "4  16004     skoda      Scala  2020    Semi-Auto     3569   Petrol  145.0   \n",
       "\n",
       "    mpg  engineSize  \n",
       "0  39.8         2.2  \n",
       "1  60.1         2.0  \n",
       "2  29.1         2.9  \n",
       "3  57.6         2.0  \n",
       "4  47.1         1.0  "
      ]
     },
     "metadata": {},
     "output_type": "display_data"
    },
    {
     "data": {
      "text/html": [
       "<div>\n",
       "<style scoped>\n",
       "    .dataframe tbody tr th:only-of-type {\n",
       "        vertical-align: middle;\n",
       "    }\n",
       "\n",
       "    .dataframe tbody tr th {\n",
       "        vertical-align: top;\n",
       "    }\n",
       "\n",
       "    .dataframe thead th {\n",
       "        text-align: right;\n",
       "    }\n",
       "</style>\n",
       "<table border=\"1\" class=\"dataframe\">\n",
       "  <thead>\n",
       "    <tr style=\"text-align: right;\">\n",
       "      <th></th>\n",
       "      <th>carID</th>\n",
       "      <th>price</th>\n",
       "    </tr>\n",
       "  </thead>\n",
       "  <tbody>\n",
       "    <tr>\n",
       "      <th>0</th>\n",
       "      <td>13207</td>\n",
       "      <td>31995</td>\n",
       "    </tr>\n",
       "    <tr>\n",
       "      <th>1</th>\n",
       "      <td>17314</td>\n",
       "      <td>7700</td>\n",
       "    </tr>\n",
       "    <tr>\n",
       "      <th>2</th>\n",
       "      <td>12342</td>\n",
       "      <td>58990</td>\n",
       "    </tr>\n",
       "    <tr>\n",
       "      <th>3</th>\n",
       "      <td>13426</td>\n",
       "      <td>12999</td>\n",
       "    </tr>\n",
       "    <tr>\n",
       "      <th>4</th>\n",
       "      <td>16004</td>\n",
       "      <td>16990</td>\n",
       "    </tr>\n",
       "  </tbody>\n",
       "</table>\n",
       "</div>"
      ],
      "text/plain": [
       "   carID  price\n",
       "0  13207  31995\n",
       "1  17314   7700\n",
       "2  12342  58990\n",
       "3  13426  12999\n",
       "4  16004  16990"
      ]
     },
     "metadata": {},
     "output_type": "display_data"
    }
   ],
   "source": [
    "import pandas as pd\n",
    "#데이터 로드\n",
    "x_train = pd.read_csv(\"https://raw.githubusercontent.com/Datamanim/datarepo/main/carsprice/X_train.csv\")\n",
    "y_train = pd.read_csv(\"https://raw.githubusercontent.com/Datamanim/datarepo/main/carsprice/y_train.csv\")\n",
    "x_test= pd.read_csv(\"https://raw.githubusercontent.com/Datamanim/datarepo/main/carsprice/X_test.csv\")\n",
    "\n",
    "#import data 확인\n",
    "display(x_train.head())\n",
    "display(y_train.head())"
   ]
  },
  {
   "cell_type": "markdown",
   "metadata": {},
   "source": [
    "# EDA\n",
    "\n",
    "1. 결측값\n",
    "2. 이상값\n",
    "3. 데이터 타입"
   ]
  },
  {
   "cell_type": "code",
   "execution_count": 63,
   "metadata": {},
   "outputs": [
    {
     "name": "stdout",
     "output_type": "stream",
     "text": [
      "<class 'pandas.core.frame.DataFrame'>\n",
      "RangeIndex: 4960 entries, 0 to 4959\n",
      "Data columns (total 10 columns):\n",
      " #   Column        Non-Null Count  Dtype  \n",
      "---  ------        --------------  -----  \n",
      " 0   carID         4960 non-null   int64  \n",
      " 1   brand         4960 non-null   object \n",
      " 2   model         4960 non-null   object \n",
      " 3   year          4960 non-null   int64  \n",
      " 4   transmission  4960 non-null   object \n",
      " 5   mileage       4960 non-null   int64  \n",
      " 6   fuelType      4960 non-null   object \n",
      " 7   tax           4960 non-null   float64\n",
      " 8   mpg           4960 non-null   float64\n",
      " 9   engineSize    4960 non-null   float64\n",
      "dtypes: float64(3), int64(3), object(4)\n",
      "memory usage: 387.6+ KB\n",
      "None\n",
      "<class 'pandas.core.frame.DataFrame'>\n",
      "RangeIndex: 4960 entries, 0 to 4959\n",
      "Data columns (total 2 columns):\n",
      " #   Column  Non-Null Count  Dtype\n",
      "---  ------  --------------  -----\n",
      " 0   carID   4960 non-null   int64\n",
      " 1   price   4960 non-null   int64\n",
      "dtypes: int64(2)\n",
      "memory usage: 77.6 KB\n",
      "None\n",
      "<class 'pandas.core.frame.DataFrame'>\n",
      "RangeIndex: 2672 entries, 0 to 2671\n",
      "Data columns (total 10 columns):\n",
      " #   Column        Non-Null Count  Dtype  \n",
      "---  ------        --------------  -----  \n",
      " 0   carID         2672 non-null   int64  \n",
      " 1   brand         2672 non-null   object \n",
      " 2   model         2672 non-null   object \n",
      " 3   year          2672 non-null   int64  \n",
      " 4   transmission  2672 non-null   object \n",
      " 5   mileage       2672 non-null   int64  \n",
      " 6   fuelType      2672 non-null   object \n",
      " 7   tax           2672 non-null   float64\n",
      " 8   mpg           2672 non-null   float64\n",
      " 9   engineSize    2672 non-null   float64\n",
      "dtypes: float64(3), int64(3), object(4)\n",
      "memory usage: 208.9+ KB\n",
      "None\n",
      "              carID         year        mileage          tax          mpg  \\\n",
      "count   4960.000000  4960.000000    4960.000000  4960.000000  4960.000000   \n",
      "mean   15832.446169  2016.737903   24956.286895   152.332661    50.370766   \n",
      "std     2206.717006     2.884035   24443.333662    82.403844    35.746505   \n",
      "min    12002.000000  1997.000000       1.000000     0.000000     2.800000   \n",
      "25%    13929.250000  2016.000000    5641.250000   145.000000    38.700000   \n",
      "50%    15840.000000  2017.000000   19000.000000   145.000000    47.100000   \n",
      "75%    17765.750000  2019.000000   36702.000000   150.000000    54.300000   \n",
      "max    19629.000000  2020.000000  259000.000000   580.000000   470.800000   \n",
      "\n",
      "        engineSize  \n",
      "count  4960.000000  \n",
      "mean      2.124375  \n",
      "std       0.789368  \n",
      "min       0.000000  \n",
      "25%       1.600000  \n",
      "50%       2.000000  \n",
      "75%       2.800000  \n",
      "max       6.600000  \n",
      "              carID          price\n",
      "count   4960.000000    4960.000000\n",
      "mean   15832.446169   23469.943750\n",
      "std     2206.717006   16406.714563\n",
      "min    12002.000000     450.000000\n",
      "25%    13929.250000   12000.000000\n",
      "50%    15840.000000   18999.000000\n",
      "75%    17765.750000   30335.750000\n",
      "max    19629.000000  145000.000000\n",
      "              carID         year        mileage          tax          mpg  \\\n",
      "count   2672.000000  2672.000000    2672.000000  2672.000000  2672.000000   \n",
      "mean   15784.043039  2016.720434   24617.528443   153.261602    49.787275   \n",
      "std     2197.045979     2.898906   23142.032992    80.742530    35.269981   \n",
      "min    12000.000000  1970.000000       1.000000     0.000000     2.800000   \n",
      "25%    13889.750000  2016.000000    6000.000000   145.000000    37.700000   \n",
      "50%    15777.500000  2017.000000   18548.000000   145.000000    47.100000   \n",
      "75%    17661.500000  2019.000000   36272.250000   160.000000    54.300000   \n",
      "max    19631.000000  2020.000000  167054.000000   580.000000   470.800000   \n",
      "\n",
      "        engineSize  \n",
      "count  2672.000000  \n",
      "mean      2.135105  \n",
      "std       0.768596  \n",
      "min       0.000000  \n",
      "25%       1.600000  \n",
      "50%       2.000000  \n",
      "75%       2.800000  \n",
      "max       6.300000  \n"
     ]
    }
   ],
   "source": [
    "# data 기본 정보 확인\n",
    "# X : 9 Columns 4960 Rows Null = None\n",
    "# Y : 2 Columns 4960 Rows Null = None\n",
    "print(x_train.info())\n",
    "print(y_train.info())\n",
    "print(x_test.info())\n",
    "\n",
    "print(x_train.describe())\n",
    "print(y_train.describe())\n",
    "print(x_test.describe())"
   ]
  },
  {
   "cell_type": "code",
   "execution_count": 64,
   "metadata": {},
   "outputs": [
    {
     "name": "stdout",
     "output_type": "stream",
     "text": [
      "carID           0\n",
      "brand           0\n",
      "model           0\n",
      "year            0\n",
      "transmission    0\n",
      "mileage         0\n",
      "fuelType        0\n",
      "tax             0\n",
      "mpg             0\n",
      "engineSize      0\n",
      "dtype: int64\n",
      "carID           0\n",
      "brand           0\n",
      "model           0\n",
      "year            0\n",
      "transmission    0\n",
      "mileage         0\n",
      "fuelType        0\n",
      "tax             0\n",
      "mpg             0\n",
      "engineSize      0\n",
      "dtype: int64\n",
      "carID           0\n",
      "brand           0\n",
      "model           0\n",
      "year            0\n",
      "transmission    0\n",
      "mileage         0\n",
      "fuelType        0\n",
      "tax             0\n",
      "mpg             0\n",
      "engineSize      0\n",
      "dtype: int64\n"
     ]
    }
   ],
   "source": [
    "# 결측값\n",
    "print(x_train.isnull().sum())\n",
    "print(x_train.isnull().sum())\n",
    "print(x_train.isnull().sum())"
   ]
  },
  {
   "cell_type": "code",
   "execution_count": 65,
   "metadata": {},
   "outputs": [],
   "source": [
    "# 이상값\n",
    "\n",
    "# 이상값 제거 함수 정의\n",
    "def get_outliers(df=None, column=None, weight=1.5):\n",
    "    per_75 = np.percentile(df[column].values, 75)\n",
    "    per_25 = np.percentile(df[column].values, 25)\n",
    "    \n",
    "    IQR = (per_75 - per_25) * weight\n",
    "    high = per_75 + IQR\n",
    "    low = per_25 - IQR\n",
    "    \n",
    "    outlier_idx = df[(df[column]>high)|(df[column]<low)].index\n",
    "    return outlier_idx"
   ]
  },
  {
   "cell_type": "code",
   "execution_count": 66,
   "metadata": {},
   "outputs": [
    {
     "data": {
      "image/png": "[encoded data removed]",
      "text/plain": [
       "<Figure size 432x288 with 1 Axes>"
      ]
     },
     "metadata": {
      "needs_background": "light"
     },
     "output_type": "display_data"
    },
    {
     "data": {
      "image/png": "[encoded data removed]",
      "text/plain": [
       "<Figure size 432x288 with 1 Axes>"
      ]
     },
     "metadata": {
      "needs_background": "light"
     },
     "output_type": "display_data"
    }
   ],
   "source": [
    "import matplotlib.pyplot as plt\n",
    "import seaborn as sns\n",
    "\n",
    "# 시각화로 탐색\n",
    "# 1. 이상치 개수 파악\n",
    "boxplot = sns.boxplot(data=x_train[['mileage', 'tax', 'mpg', 'engineSize']])\n",
    "plt.show()\n",
    "\n",
    "boxplot = sns.boxplot(data=x_train[['tax', 'mpg', 'engineSize']])\n",
    "plt.show()"
   ]
  },
  {
   "cell_type": "code",
   "execution_count": 67,
   "metadata": {},
   "outputs": [
    {
     "data": {
      "image/png": "[encoded data removed]",
      "text/plain": [
       "<Figure size 432x288 with 1 Axes>"
      ]
     },
     "metadata": {
      "needs_background": "light"
     },
     "output_type": "display_data"
    },
    {
     "data": {
      "image/png": "[encoded data removed]",
      "text/plain": [
       "<Figure size 432x288 with 1 Axes>"
      ]
     },
     "metadata": {
      "needs_background": "light"
     },
     "output_type": "display_data"
    },
    {
     "data": {
      "image/png": "[encoded data removed]",
      "text/plain": [
       "<Figure size 432x288 with 1 Axes>"
      ]
     },
     "metadata": {
      "needs_background": "light"
     },
     "output_type": "display_data"
    },
    {
     "data": {
      "image/png": "[encoded data removed]",
      "text/plain": [
       "<Figure size 432x288 with 1 Axes>"
      ]
     },
     "metadata": {
      "needs_background": "light"
     },
     "output_type": "display_data"
    }
   ],
   "source": [
    "# 2. 값들의 분포 확인\n",
    "for i in ['mileage', 'tax', 'mpg', 'engineSize']:\n",
    "    plt.hist(x = x_train[[i]])\n",
    "    plt.show()"
   ]
  },
  {
   "cell_type": "code",
   "execution_count": 68,
   "metadata": {},
   "outputs": [],
   "source": [
    "# mileage, mpg column에 로그를 취하여 머신 러닝의 성능을 높인다.\n",
    "import numpy as np\n",
    "\n",
    "log_features = ['mileage', 'mpg']\n",
    "\n",
    "for i in log_features:\n",
    "    x_train[i] = x_train[i].apply(lambda x: np.log1p(x))\n",
    "    x_test[i] = x_test[i].apply(lambda x: np.log1p(x))\n"
   ]
  },
  {
   "cell_type": "code",
   "execution_count": 69,
   "metadata": {},
   "outputs": [
    {
     "data": {
      "image/png": "[encoded data removed]",
      "text/plain": [
       "<Figure size 432x288 with 1 Axes>"
      ]
     },
     "metadata": {
      "needs_background": "light"
     },
     "output_type": "display_data"
    },
    {
     "data": {
      "image/png": "[encoded data removed]",
      "text/plain": [
       "<Figure size 432x288 with 1 Axes>"
      ]
     },
     "metadata": {
      "needs_background": "light"
     },
     "output_type": "display_data"
    }
   ],
   "source": [
    "for i in log_features:\n",
    "    plt.hist(x = x_train[[i]])\n",
    "    plt.show()"
   ]
  },
  {
   "cell_type": "code",
   "execution_count": 70,
   "metadata": {},
   "outputs": [],
   "source": [
    "for i in ['mileage', 'tax', 'mpg', 'engineSize']:\n",
    "    outliers = get_outliers(x_train, i, 2)\n",
    "    x_train.drop(outliers, axis=0, inplace=True)\n",
    "    y_train.drop(outliers, axis=0, inplace=True)"
   ]
  },
  {
   "cell_type": "code",
   "execution_count": 71,
   "metadata": {},
   "outputs": [],
   "source": [
    "# data type\n",
    "\n",
    "# 명목변수 분리 \n",
    "cate_col = ['brand', 'model', 'year', 'transmission', 'fuelType']\n",
    "\n",
    "# string / float&int\n",
    "string_col = ['brand', 'model', 'transmission', 'fuelType']\n",
    "num_col = list(x_train.columns.drop(string_col))"
   ]
  },
  {
   "cell_type": "code",
   "execution_count": 72,
   "metadata": {},
   "outputs": [
    {
     "name": "stdout",
     "output_type": "stream",
     "text": [
      "<class 'pandas.core.frame.DataFrame'>\n",
      "Int64Index: 3070 entries, 0 to 4959\n",
      "Data columns (total 10 columns):\n",
      " #   Column        Non-Null Count  Dtype   \n",
      "---  ------        --------------  -----   \n",
      " 0   carID         3070 non-null   int64   \n",
      " 1   brand         3070 non-null   category\n",
      " 2   model         3070 non-null   category\n",
      " 3   year          3070 non-null   category\n",
      " 4   transmission  3070 non-null   category\n",
      " 5   mileage       3070 non-null   float64 \n",
      " 6   fuelType      3070 non-null   category\n",
      " 7   tax           3070 non-null   float64 \n",
      " 8   mpg           3070 non-null   float64 \n",
      " 9   engineSize    3070 non-null   float64 \n",
      "dtypes: category(5), float64(4), int64(1)\n",
      "memory usage: 163.0 KB\n",
      "None\n"
     ]
    }
   ],
   "source": [
    "# 명목 변수 data type category로 변경\n",
    "for i in cate_col:\n",
    "    x_train[i] = x_train[i].astype('category')\n",
    "    x_test[i] = x_test[i].astype('category')\n",
    "print(x_train.info())"
   ]
  },
  {
   "cell_type": "code",
   "execution_count": 73,
   "metadata": {},
   "outputs": [
    {
     "name": "stdout",
     "output_type": "stream",
     "text": [
      "{'model_ M6'}\n",
      "{'model_ IQ', 'model_ Amarok', 'model_ CLK', 'model_ Hilux', 'model_ California', 'year_1970', 'model_ Antara', 'model_ i8', 'model_ Fusion', 'model_ i3', 'model_ R8', 'year_2001', 'model_ Z3', 'year_2003', 'model_ M Class', 'year_2002', 'year_1998', 'fuelType_Electric'}\n"
     ]
    }
   ],
   "source": [
    "# train과 test에 명목 변수가 다 같이 있는지 확인\n",
    "train_dum = pd.get_dummies(x_train[cate_col])\n",
    "test_dum = pd.get_dummies(x_test[cate_col])\n",
    "\n",
    "print(set(train_dum.columns) - set(test_dum.columns))\n",
    "print(set(test_dum.columns) - set(train_dum.columns))"
   ]
  },
  {
   "cell_type": "code",
   "execution_count": 74,
   "metadata": {},
   "outputs": [],
   "source": [
    "# 없는 명목변수를 포함하는 train, test 테이블 생성\n",
    "X_train_dum = pd.get_dummies(x_train)\n",
    "X_test_dum = pd.get_dummies(x_test)\n",
    "\n",
    "train_missing = set(test_dum.columns) - set(train_dum.columns)\n",
    "test_missing = set(train_dum.columns) - set(test_dum.columns)\n",
    "\n",
    "for c in train_missing:\n",
    "    X_train_dum[c] = 0\n",
    "for c in test_missing:\n",
    "    X_test_dum[c] = 0"
   ]
  },
  {
   "cell_type": "markdown",
   "metadata": {},
   "source": [
    "# Model Selection"
   ]
  },
  {
   "cell_type": "code",
   "execution_count": 75,
   "metadata": {},
   "outputs": [],
   "source": [
    "# package import\n",
    "from sklearn.model_selection import KFold, train_test_split, GridSearchCV\n",
    "from sklearn.pipeline import Pipeline\n",
    "from xgboost import XGBRegressor"
   ]
  },
  {
   "cell_type": "code",
   "execution_count": 98,
   "metadata": {},
   "outputs": [
    {
     "name": "stdout",
     "output_type": "stream",
     "text": [
      "{'model': XGBRegressor(base_score=None, booster=None, callbacks=None,\n",
      "             colsample_bylevel=None, colsample_bynode=None,\n",
      "             colsample_bytree=None, early_stopping_rounds=None,\n",
      "             enable_categorical=False, eval_metric='mlogloss', gamma=0,\n",
      "             gpu_id=None, grow_policy=None, importance_type=None,\n",
      "             interaction_constraints=None, learning_rate=0.2, max_bin=None,\n",
      "             max_cat_to_onehot=None, max_delta_step=None, max_depth=5,\n",
      "             max_leaves=None, min_child_weight=None, missing=nan,\n",
      "             monotone_constraints=None, n_estimators=300, n_jobs=None,\n",
      "             num_parallel_tree=None, predictor=None, random_state=None,\n",
      "             reg_alpha=None, reg_lambda=None, ...), 'model__gamma': 0, 'model__learning_rate': 0.2, 'model__max_depth': 5, 'model__n_estimators': 300}\n",
      "0.9612029380888971\n"
     ]
    }
   ],
   "source": [
    "X = X_train_dum.iloc[:, 1:]\n",
    "y = y_train.iloc[:, 1:]\n",
    "\n",
    "kfold = KFold(n_splits=5, shuffle=True)\n",
    "pipe = Pipeline(steps=[('model', XGBRegressor(eval_metric='mlogloss', use_label_encoder=False))])\n",
    "grid_params = {'model':[XGBRegressor(eval_metric='mlogloss', use_label_encoder=False)],\n",
    "               'model__max_depth':[3, 5, 7],\n",
    "               'model__learning_rate':[0.05, 0.1, 0.2, 0.3],\n",
    "               'model__n_estimators':[50, 100, 200, 300],\n",
    "               'model__gamma':[0, 0.1, 0.2]}\n",
    "\n",
    "grid = GridSearchCV(pipe, grid_params, cv=kfold, verbose=0)\n",
    "grid.fit(X, y)\n",
    "print(grid.best_params_)\n",
    "print(grid.best_score_)"
   ]
  },
  {
   "cell_type": "markdown",
   "metadata": {},
   "source": [
    "# Modeling"
   ]
  },
  {
   "cell_type": "code",
   "execution_count": 105,
   "metadata": {},
   "outputs": [],
   "source": [
    "model = XGBRegressor(eval_metric='mlogloss', use_label_encoder=False,\n",
    "                      learning_rate=0.2, max_depth=5, n_estimators=200)\n",
    "model.fit(X, y)\n",
    "pred = model.predict(X_test_dum.iloc[:, 1:])\n",
    "pred = pd.Series(pred)\n",
    "\n",
    "answer = pd.concat([X_test_dum.carID, pred], axis=1)"
   ]
  },
  {
   "cell_type": "code",
   "execution_count": 106,
   "metadata": {},
   "outputs": [
    {
     "data": {
      "text/html": [
       "<div>\n",
       "<style scoped>\n",
       "    .dataframe tbody tr th:only-of-type {\n",
       "        vertical-align: middle;\n",
       "    }\n",
       "\n",
       "    .dataframe tbody tr th {\n",
       "        vertical-align: top;\n",
       "    }\n",
       "\n",
       "    .dataframe thead th {\n",
       "        text-align: right;\n",
       "    }\n",
       "</style>\n",
       "<table border=\"1\" class=\"dataframe\">\n",
       "  <thead>\n",
       "    <tr style=\"text-align: right;\">\n",
       "      <th></th>\n",
       "      <th>carID</th>\n",
       "      <th>0</th>\n",
       "    </tr>\n",
       "  </thead>\n",
       "  <tbody>\n",
       "    <tr>\n",
       "      <th>0</th>\n",
       "      <td>12000</td>\n",
       "      <td>38508.203125</td>\n",
       "    </tr>\n",
       "    <tr>\n",
       "      <th>1</th>\n",
       "      <td>12001</td>\n",
       "      <td>33022.828125</td>\n",
       "    </tr>\n",
       "    <tr>\n",
       "      <th>2</th>\n",
       "      <td>12004</td>\n",
       "      <td>50232.843750</td>\n",
       "    </tr>\n",
       "    <tr>\n",
       "      <th>3</th>\n",
       "      <td>12013</td>\n",
       "      <td>17864.957031</td>\n",
       "    </tr>\n",
       "    <tr>\n",
       "      <th>4</th>\n",
       "      <td>12017</td>\n",
       "      <td>80702.773438</td>\n",
       "    </tr>\n",
       "    <tr>\n",
       "      <th>...</th>\n",
       "      <td>...</td>\n",
       "      <td>...</td>\n",
       "    </tr>\n",
       "    <tr>\n",
       "      <th>2667</th>\n",
       "      <td>19618</td>\n",
       "      <td>72973.968750</td>\n",
       "    </tr>\n",
       "    <tr>\n",
       "      <th>2668</th>\n",
       "      <td>19620</td>\n",
       "      <td>16821.384766</td>\n",
       "    </tr>\n",
       "    <tr>\n",
       "      <th>2669</th>\n",
       "      <td>19626</td>\n",
       "      <td>16913.240234</td>\n",
       "    </tr>\n",
       "    <tr>\n",
       "      <th>2670</th>\n",
       "      <td>19630</td>\n",
       "      <td>25904.589844</td>\n",
       "    </tr>\n",
       "    <tr>\n",
       "      <th>2671</th>\n",
       "      <td>19631</td>\n",
       "      <td>10213.391602</td>\n",
       "    </tr>\n",
       "  </tbody>\n",
       "</table>\n",
       "<p>2672 rows × 2 columns</p>\n",
       "</div>"
      ],
      "text/plain": [
       "      carID             0\n",
       "0     12000  38508.203125\n",
       "1     12001  33022.828125\n",
       "2     12004  50232.843750\n",
       "3     12013  17864.957031\n",
       "4     12017  80702.773438\n",
       "...     ...           ...\n",
       "2667  19618  72973.968750\n",
       "2668  19620  16821.384766\n",
       "2669  19626  16913.240234\n",
       "2670  19630  25904.589844\n",
       "2671  19631  10213.391602\n",
       "\n",
       "[2672 rows x 2 columns]"
      ]
     },
     "execution_count": 106,
     "metadata": {},
     "output_type": "execute_result"
    }
   ],
   "source": [
    "answer"
   ]
  },
  {
   "cell_type": "code",
   "execution_count": 107,
   "metadata": {},
   "outputs": [
    {
     "data": {
      "text/html": [
       "<div>\n",
       "<style scoped>\n",
       "    .dataframe tbody tr th:only-of-type {\n",
       "        vertical-align: middle;\n",
       "    }\n",
       "\n",
       "    .dataframe tbody tr th {\n",
       "        vertical-align: top;\n",
       "    }\n",
       "\n",
       "    .dataframe thead th {\n",
       "        text-align: right;\n",
       "    }\n",
       "</style>\n",
       "<table border=\"1\" class=\"dataframe\">\n",
       "  <thead>\n",
       "    <tr style=\"text-align: right;\">\n",
       "      <th></th>\n",
       "      <th>carID</th>\n",
       "      <th>price</th>\n",
       "    </tr>\n",
       "  </thead>\n",
       "  <tbody>\n",
       "    <tr>\n",
       "      <th>0</th>\n",
       "      <td>12000</td>\n",
       "      <td>38000</td>\n",
       "    </tr>\n",
       "    <tr>\n",
       "      <th>1</th>\n",
       "      <td>12001</td>\n",
       "      <td>23495</td>\n",
       "    </tr>\n",
       "    <tr>\n",
       "      <th>2</th>\n",
       "      <td>12004</td>\n",
       "      <td>59999</td>\n",
       "    </tr>\n",
       "    <tr>\n",
       "      <th>3</th>\n",
       "      <td>12013</td>\n",
       "      <td>16713</td>\n",
       "    </tr>\n",
       "    <tr>\n",
       "      <th>4</th>\n",
       "      <td>12017</td>\n",
       "      <td>46000</td>\n",
       "    </tr>\n",
       "  </tbody>\n",
       "</table>\n",
       "</div>"
      ],
      "text/plain": [
       "   carID  price\n",
       "0  12000  38000\n",
       "1  12001  23495\n",
       "2  12004  59999\n",
       "3  12013  16713\n",
       "4  12017  46000"
      ]
     },
     "metadata": {},
     "output_type": "display_data"
    }
   ],
   "source": [
    "x_label = pd.read_csv(\"https://raw.githubusercontent.com/Datamanim/datarepo/main/carsprice/y_test.csv\")\n",
    "\n",
    "display(x_label.head())"
   ]
  },
  {
   "cell_type": "code",
   "execution_count": 108,
   "metadata": {},
   "outputs": [
    {
     "name": "stdout",
     "output_type": "stream",
     "text": [
      "0.7104951468890918\n"
     ]
    }
   ],
   "source": [
    "from sklearn.metrics import r2_score\n",
    "\n",
    "score = r2_score(x_label.price, answer.iloc[:, 1])\n",
    "print(score)"
   ]
  }
 ],
 "metadata": {
  "kernelspec": {
   "display_name": "Python 3.9.13 64-bit",
   "language": "python",
   "name": "python3"
  },
  "language_info": {
   "codemirror_mode": {
    "name": "ipython",
    "version": 3
   },
   "file_extension": ".py",
   "mimetype": "text/x-python",
   "name": "python",
   "nbconvert_exporter": "python",
   "pygments_lexer": "ipython3",
   "version": "3.9.13"
  },
  "orig_nbformat": 4,
  "vscode": {
   "interpreter": {
    "hash": "b0fa6594d8f4cbf19f97940f81e996739fb7646882a419484c72d19e05852a7e"
   }
  }
 },
 "nbformat": 4,
 "nbformat_minor": 2
}
