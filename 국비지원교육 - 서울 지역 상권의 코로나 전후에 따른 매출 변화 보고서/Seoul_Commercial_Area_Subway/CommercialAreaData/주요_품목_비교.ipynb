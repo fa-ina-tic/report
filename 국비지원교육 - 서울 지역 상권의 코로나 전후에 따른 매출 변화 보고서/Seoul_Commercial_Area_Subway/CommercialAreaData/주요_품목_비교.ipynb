{
 "cells": [
  {
   "cell_type": "code",
   "execution_count": 1,
   "metadata": {
    "collapsed": true
   },
   "outputs": [],
   "source": [
    "import pandas as pd\n",
    "import numpy as np"
   ]
  },
  {
   "cell_type": "code",
   "execution_count": 2,
   "outputs": [],
   "source": [
    "url = './서울_상권_매출_(2019-2021).csv'\n",
    "df = pd.read_csv(url, encoding='ANSI', index_col=0)"
   ],
   "metadata": {
    "collapsed": false,
    "pycharm": {
     "name": "#%%\n"
    }
   }
  },
  {
   "cell_type": "code",
   "execution_count": 3,
   "outputs": [],
   "source": [
    "market_df = df.groupby(['상권_구분_코드', '서비스_업종_코드']).sum()[['주중_매출_금액','주말_매출_금액']].reset_index()"
   ],
   "metadata": {
    "collapsed": false,
    "pycharm": {
     "name": "#%%\n"
    }
   }
  },
  {
   "cell_type": "code",
   "execution_count": 4,
   "outputs": [],
   "source": [
    "market_df['총_매출_금액'] = market_df['주중_매출_금액'] + market_df['주말_매출_금액']"
   ],
   "metadata": {
    "collapsed": false,
    "pycharm": {
     "name": "#%%\n"
    }
   }
  },
  {
   "cell_type": "code",
   "execution_count": 5,
   "outputs": [],
   "source": [
    "market_df.drop(['주중_매출_금액', '주말_매출_금액'], axis=1, inplace=True)"
   ],
   "metadata": {
    "collapsed": false,
    "pycharm": {
     "name": "#%%\n"
    }
   }
  },
  {
   "cell_type": "code",
   "execution_count": 6,
   "outputs": [
    {
     "data": {
      "text/plain": "   상권_구분_코드 서비스_업종_코드       총_매출_금액\n0         A  CS100001  9.167726e+12\n33        A  CS300002  5.599997e+12\n32        A  CS300001  4.487122e+12\n46        A  CS300018  3.952086e+12\n41        A  CS300011  2.364894e+12\n14        A  CS200006  2.352682e+12\n40        A  CS300010  1.711387e+12\n9         A  CS100010  1.521042e+12\n8         A  CS100009  1.447139e+12\n37        A  CS300007  1.447106e+12\n15        A  CS200007  1.434027e+12\n10        A  CS200001  1.405895e+12\n7         A  CS100008  1.139129e+12\n39        A  CS300009  1.020044e+12\n50        A  CS300022  9.684830e+11\n47        A  CS300019  9.598172e+11\n23        A  CS200028  9.419026e+11\n1         A  CS100002  8.771658e+11\n21        A  CS200025  8.664688e+11\n4         A  CS100005  8.304301e+11",
      "text/html": "<div>\n<style scoped>\n    .dataframe tbody tr th:only-of-type {\n        vertical-align: middle;\n    }\n\n    .dataframe tbody tr th {\n        vertical-align: top;\n    }\n\n    .dataframe thead th {\n        text-align: right;\n    }\n</style>\n<table border=\"1\" class=\"dataframe\">\n  <thead>\n    <tr style=\"text-align: right;\">\n      <th></th>\n      <th>상권_구분_코드</th>\n      <th>서비스_업종_코드</th>\n      <th>총_매출_금액</th>\n    </tr>\n  </thead>\n  <tbody>\n    <tr>\n      <th>0</th>\n      <td>A</td>\n      <td>CS100001</td>\n      <td>9.167726e+12</td>\n    </tr>\n    <tr>\n      <th>33</th>\n      <td>A</td>\n      <td>CS300002</td>\n      <td>5.599997e+12</td>\n    </tr>\n    <tr>\n      <th>32</th>\n      <td>A</td>\n      <td>CS300001</td>\n      <td>4.487122e+12</td>\n    </tr>\n    <tr>\n      <th>46</th>\n      <td>A</td>\n      <td>CS300018</td>\n      <td>3.952086e+12</td>\n    </tr>\n    <tr>\n      <th>41</th>\n      <td>A</td>\n      <td>CS300011</td>\n      <td>2.364894e+12</td>\n    </tr>\n    <tr>\n      <th>14</th>\n      <td>A</td>\n      <td>CS200006</td>\n      <td>2.352682e+12</td>\n    </tr>\n    <tr>\n      <th>40</th>\n      <td>A</td>\n      <td>CS300010</td>\n      <td>1.711387e+12</td>\n    </tr>\n    <tr>\n      <th>9</th>\n      <td>A</td>\n      <td>CS100010</td>\n      <td>1.521042e+12</td>\n    </tr>\n    <tr>\n      <th>8</th>\n      <td>A</td>\n      <td>CS100009</td>\n      <td>1.447139e+12</td>\n    </tr>\n    <tr>\n      <th>37</th>\n      <td>A</td>\n      <td>CS300007</td>\n      <td>1.447106e+12</td>\n    </tr>\n    <tr>\n      <th>15</th>\n      <td>A</td>\n      <td>CS200007</td>\n      <td>1.434027e+12</td>\n    </tr>\n    <tr>\n      <th>10</th>\n      <td>A</td>\n      <td>CS200001</td>\n      <td>1.405895e+12</td>\n    </tr>\n    <tr>\n      <th>7</th>\n      <td>A</td>\n      <td>CS100008</td>\n      <td>1.139129e+12</td>\n    </tr>\n    <tr>\n      <th>39</th>\n      <td>A</td>\n      <td>CS300009</td>\n      <td>1.020044e+12</td>\n    </tr>\n    <tr>\n      <th>50</th>\n      <td>A</td>\n      <td>CS300022</td>\n      <td>9.684830e+11</td>\n    </tr>\n    <tr>\n      <th>47</th>\n      <td>A</td>\n      <td>CS300019</td>\n      <td>9.598172e+11</td>\n    </tr>\n    <tr>\n      <th>23</th>\n      <td>A</td>\n      <td>CS200028</td>\n      <td>9.419026e+11</td>\n    </tr>\n    <tr>\n      <th>1</th>\n      <td>A</td>\n      <td>CS100002</td>\n      <td>8.771658e+11</td>\n    </tr>\n    <tr>\n      <th>21</th>\n      <td>A</td>\n      <td>CS200025</td>\n      <td>8.664688e+11</td>\n    </tr>\n    <tr>\n      <th>4</th>\n      <td>A</td>\n      <td>CS100005</td>\n      <td>8.304301e+11</td>\n    </tr>\n  </tbody>\n</table>\n</div>"
     },
     "execution_count": 6,
     "metadata": {},
     "output_type": "execute_result"
    }
   ],
   "source": [
    "market_df[market_df['상권_구분_코드']=='A'].sort_values(by='총_매출_금액', ascending=False).head(20)"
   ],
   "metadata": {
    "collapsed": false,
    "pycharm": {
     "name": "#%%\n"
    }
   }
  },
  {
   "cell_type": "code",
   "execution_count": 8,
   "outputs": [
    {
     "data": {
      "text/plain": "    상권_구분_코드 서비스_업종_코드       총_매출_금액\n63         D  CS100001  1.238176e+13\n97         D  CS300003  1.120363e+13\n77         D  CS200006  7.374923e+12\n104        D  CS300011  6.867654e+12\n96         D  CS300002  4.781203e+12\n109        D  CS300018  4.474797e+12\n113        D  CS300022  3.756941e+12\n72         D  CS100010  3.657141e+12\n101        D  CS300008  2.807697e+12\n71         D  CS100009  2.724616e+12\n103        D  CS300010  2.556779e+12\n78         D  CS200007  2.425222e+12\n70         D  CS100008  2.366001e+12\n108        D  CS300017  2.205637e+12\n121        D  CS300032  2.031641e+12\n112        D  CS300021  2.001282e+12\n95         D  CS300001  1.900235e+12\n66         D  CS100004  1.739037e+12\n65         D  CS100003  1.726186e+12\n67         D  CS100005  1.317369e+12",
      "text/html": "<div>\n<style scoped>\n    .dataframe tbody tr th:only-of-type {\n        vertical-align: middle;\n    }\n\n    .dataframe tbody tr th {\n        vertical-align: top;\n    }\n\n    .dataframe thead th {\n        text-align: right;\n    }\n</style>\n<table border=\"1\" class=\"dataframe\">\n  <thead>\n    <tr style=\"text-align: right;\">\n      <th></th>\n      <th>상권_구분_코드</th>\n      <th>서비스_업종_코드</th>\n      <th>총_매출_금액</th>\n    </tr>\n  </thead>\n  <tbody>\n    <tr>\n      <th>63</th>\n      <td>D</td>\n      <td>CS100001</td>\n      <td>1.238176e+13</td>\n    </tr>\n    <tr>\n      <th>97</th>\n      <td>D</td>\n      <td>CS300003</td>\n      <td>1.120363e+13</td>\n    </tr>\n    <tr>\n      <th>77</th>\n      <td>D</td>\n      <td>CS200006</td>\n      <td>7.374923e+12</td>\n    </tr>\n    <tr>\n      <th>104</th>\n      <td>D</td>\n      <td>CS300011</td>\n      <td>6.867654e+12</td>\n    </tr>\n    <tr>\n      <th>96</th>\n      <td>D</td>\n      <td>CS300002</td>\n      <td>4.781203e+12</td>\n    </tr>\n    <tr>\n      <th>109</th>\n      <td>D</td>\n      <td>CS300018</td>\n      <td>4.474797e+12</td>\n    </tr>\n    <tr>\n      <th>113</th>\n      <td>D</td>\n      <td>CS300022</td>\n      <td>3.756941e+12</td>\n    </tr>\n    <tr>\n      <th>72</th>\n      <td>D</td>\n      <td>CS100010</td>\n      <td>3.657141e+12</td>\n    </tr>\n    <tr>\n      <th>101</th>\n      <td>D</td>\n      <td>CS300008</td>\n      <td>2.807697e+12</td>\n    </tr>\n    <tr>\n      <th>71</th>\n      <td>D</td>\n      <td>CS100009</td>\n      <td>2.724616e+12</td>\n    </tr>\n    <tr>\n      <th>103</th>\n      <td>D</td>\n      <td>CS300010</td>\n      <td>2.556779e+12</td>\n    </tr>\n    <tr>\n      <th>78</th>\n      <td>D</td>\n      <td>CS200007</td>\n      <td>2.425222e+12</td>\n    </tr>\n    <tr>\n      <th>70</th>\n      <td>D</td>\n      <td>CS100008</td>\n      <td>2.366001e+12</td>\n    </tr>\n    <tr>\n      <th>108</th>\n      <td>D</td>\n      <td>CS300017</td>\n      <td>2.205637e+12</td>\n    </tr>\n    <tr>\n      <th>121</th>\n      <td>D</td>\n      <td>CS300032</td>\n      <td>2.031641e+12</td>\n    </tr>\n    <tr>\n      <th>112</th>\n      <td>D</td>\n      <td>CS300021</td>\n      <td>2.001282e+12</td>\n    </tr>\n    <tr>\n      <th>95</th>\n      <td>D</td>\n      <td>CS300001</td>\n      <td>1.900235e+12</td>\n    </tr>\n    <tr>\n      <th>66</th>\n      <td>D</td>\n      <td>CS100004</td>\n      <td>1.739037e+12</td>\n    </tr>\n    <tr>\n      <th>65</th>\n      <td>D</td>\n      <td>CS100003</td>\n      <td>1.726186e+12</td>\n    </tr>\n    <tr>\n      <th>67</th>\n      <td>D</td>\n      <td>CS100005</td>\n      <td>1.317369e+12</td>\n    </tr>\n  </tbody>\n</table>\n</div>"
     },
     "execution_count": 8,
     "metadata": {},
     "output_type": "execute_result"
    }
   ],
   "source": [
    "market_df[market_df['상권_구분_코드']=='D'].sort_values(by='총_매출_금액', ascending=False).head(20)"
   ],
   "metadata": {
    "collapsed": false,
    "pycharm": {
     "name": "#%%\n"
    }
   }
  },
  {
   "cell_type": "code",
   "execution_count": 9,
   "outputs": [
    {
     "data": {
      "text/plain": "    상권_구분_코드 서비스_업종_코드       총_매출_금액\n165        R  CS300009  4.498431e+12\n163        R  CS300007  3.845892e+12\n167        R  CS300011  2.040839e+12\n126        R  CS100001  1.999999e+12\n158        R  CS300001  1.820058e+12\n164        R  CS300008  1.582097e+12\n166        R  CS300010  1.321268e+12\n172        R  CS300018  1.133507e+12\n140        R  CS200006  8.972336e+11\n141        R  CS200007  5.253758e+11\n162        R  CS300006  4.553177e+11\n176        R  CS300022  4.125089e+11\n180        R  CS300027  3.424140e+11\n188        R  CS300043  3.151683e+11\n159        R  CS300002  3.003154e+11\n133        R  CS100008  2.999319e+11\n168        R  CS300014  2.978432e+11\n187        R  CS300036  2.946457e+11\n142        R  CS200008  2.794829e+11\n134        R  CS100009  2.288619e+11",
      "text/html": "<div>\n<style scoped>\n    .dataframe tbody tr th:only-of-type {\n        vertical-align: middle;\n    }\n\n    .dataframe tbody tr th {\n        vertical-align: top;\n    }\n\n    .dataframe thead th {\n        text-align: right;\n    }\n</style>\n<table border=\"1\" class=\"dataframe\">\n  <thead>\n    <tr style=\"text-align: right;\">\n      <th></th>\n      <th>상권_구분_코드</th>\n      <th>서비스_업종_코드</th>\n      <th>총_매출_금액</th>\n    </tr>\n  </thead>\n  <tbody>\n    <tr>\n      <th>165</th>\n      <td>R</td>\n      <td>CS300009</td>\n      <td>4.498431e+12</td>\n    </tr>\n    <tr>\n      <th>163</th>\n      <td>R</td>\n      <td>CS300007</td>\n      <td>3.845892e+12</td>\n    </tr>\n    <tr>\n      <th>167</th>\n      <td>R</td>\n      <td>CS300011</td>\n      <td>2.040839e+12</td>\n    </tr>\n    <tr>\n      <th>126</th>\n      <td>R</td>\n      <td>CS100001</td>\n      <td>1.999999e+12</td>\n    </tr>\n    <tr>\n      <th>158</th>\n      <td>R</td>\n      <td>CS300001</td>\n      <td>1.820058e+12</td>\n    </tr>\n    <tr>\n      <th>164</th>\n      <td>R</td>\n      <td>CS300008</td>\n      <td>1.582097e+12</td>\n    </tr>\n    <tr>\n      <th>166</th>\n      <td>R</td>\n      <td>CS300010</td>\n      <td>1.321268e+12</td>\n    </tr>\n    <tr>\n      <th>172</th>\n      <td>R</td>\n      <td>CS300018</td>\n      <td>1.133507e+12</td>\n    </tr>\n    <tr>\n      <th>140</th>\n      <td>R</td>\n      <td>CS200006</td>\n      <td>8.972336e+11</td>\n    </tr>\n    <tr>\n      <th>141</th>\n      <td>R</td>\n      <td>CS200007</td>\n      <td>5.253758e+11</td>\n    </tr>\n    <tr>\n      <th>162</th>\n      <td>R</td>\n      <td>CS300006</td>\n      <td>4.553177e+11</td>\n    </tr>\n    <tr>\n      <th>176</th>\n      <td>R</td>\n      <td>CS300022</td>\n      <td>4.125089e+11</td>\n    </tr>\n    <tr>\n      <th>180</th>\n      <td>R</td>\n      <td>CS300027</td>\n      <td>3.424140e+11</td>\n    </tr>\n    <tr>\n      <th>188</th>\n      <td>R</td>\n      <td>CS300043</td>\n      <td>3.151683e+11</td>\n    </tr>\n    <tr>\n      <th>159</th>\n      <td>R</td>\n      <td>CS300002</td>\n      <td>3.003154e+11</td>\n    </tr>\n    <tr>\n      <th>133</th>\n      <td>R</td>\n      <td>CS100008</td>\n      <td>2.999319e+11</td>\n    </tr>\n    <tr>\n      <th>168</th>\n      <td>R</td>\n      <td>CS300014</td>\n      <td>2.978432e+11</td>\n    </tr>\n    <tr>\n      <th>187</th>\n      <td>R</td>\n      <td>CS300036</td>\n      <td>2.946457e+11</td>\n    </tr>\n    <tr>\n      <th>142</th>\n      <td>R</td>\n      <td>CS200008</td>\n      <td>2.794829e+11</td>\n    </tr>\n    <tr>\n      <th>134</th>\n      <td>R</td>\n      <td>CS100009</td>\n      <td>2.288619e+11</td>\n    </tr>\n  </tbody>\n</table>\n</div>"
     },
     "execution_count": 9,
     "metadata": {},
     "output_type": "execute_result"
    }
   ],
   "source": [
    "market_df[market_df['상권_구분_코드']=='R'].sort_values(by='총_매출_금액', ascending=False).head(20)"
   ],
   "metadata": {
    "collapsed": false,
    "pycharm": {
     "name": "#%%\n"
    }
   }
  },
  {
   "cell_type": "code",
   "execution_count": 10,
   "outputs": [
    {
     "data": {
      "text/plain": "    상권_구분_코드 서비스_업종_코드       총_매출_금액\n230        U  CS300011  3.104639e+12\n189        U  CS100001  1.452565e+12\n239        U  CS300022  1.065979e+12\n222        U  CS300002  5.306346e+11\n240        U  CS300024  4.850574e+11\n238        U  CS300021  4.371564e+11\n198        U  CS100010  4.365556e+11\n196        U  CS100008  3.496537e+11\n234        U  CS300017  3.488697e+11\n221        U  CS300001  3.461378e+11\n231        U  CS300014  3.447012e+11\n192        U  CS100004  3.376504e+11\n251        U  CS300043  3.360485e+11\n235        U  CS300018  3.082769e+11\n243        U  CS300027  2.769634e+11\n229        U  CS300010  2.627660e+11\n197        U  CS100009  2.404014e+11\n204        U  CS200007  2.287714e+11\n203        U  CS200006  2.204301e+11\n250        U  CS300036  2.028424e+11",
      "text/html": "<div>\n<style scoped>\n    .dataframe tbody tr th:only-of-type {\n        vertical-align: middle;\n    }\n\n    .dataframe tbody tr th {\n        vertical-align: top;\n    }\n\n    .dataframe thead th {\n        text-align: right;\n    }\n</style>\n<table border=\"1\" class=\"dataframe\">\n  <thead>\n    <tr style=\"text-align: right;\">\n      <th></th>\n      <th>상권_구분_코드</th>\n      <th>서비스_업종_코드</th>\n      <th>총_매출_금액</th>\n    </tr>\n  </thead>\n  <tbody>\n    <tr>\n      <th>230</th>\n      <td>U</td>\n      <td>CS300011</td>\n      <td>3.104639e+12</td>\n    </tr>\n    <tr>\n      <th>189</th>\n      <td>U</td>\n      <td>CS100001</td>\n      <td>1.452565e+12</td>\n    </tr>\n    <tr>\n      <th>239</th>\n      <td>U</td>\n      <td>CS300022</td>\n      <td>1.065979e+12</td>\n    </tr>\n    <tr>\n      <th>222</th>\n      <td>U</td>\n      <td>CS300002</td>\n      <td>5.306346e+11</td>\n    </tr>\n    <tr>\n      <th>240</th>\n      <td>U</td>\n      <td>CS300024</td>\n      <td>4.850574e+11</td>\n    </tr>\n    <tr>\n      <th>238</th>\n      <td>U</td>\n      <td>CS300021</td>\n      <td>4.371564e+11</td>\n    </tr>\n    <tr>\n      <th>198</th>\n      <td>U</td>\n      <td>CS100010</td>\n      <td>4.365556e+11</td>\n    </tr>\n    <tr>\n      <th>196</th>\n      <td>U</td>\n      <td>CS100008</td>\n      <td>3.496537e+11</td>\n    </tr>\n    <tr>\n      <th>234</th>\n      <td>U</td>\n      <td>CS300017</td>\n      <td>3.488697e+11</td>\n    </tr>\n    <tr>\n      <th>221</th>\n      <td>U</td>\n      <td>CS300001</td>\n      <td>3.461378e+11</td>\n    </tr>\n    <tr>\n      <th>231</th>\n      <td>U</td>\n      <td>CS300014</td>\n      <td>3.447012e+11</td>\n    </tr>\n    <tr>\n      <th>192</th>\n      <td>U</td>\n      <td>CS100004</td>\n      <td>3.376504e+11</td>\n    </tr>\n    <tr>\n      <th>251</th>\n      <td>U</td>\n      <td>CS300043</td>\n      <td>3.360485e+11</td>\n    </tr>\n    <tr>\n      <th>235</th>\n      <td>U</td>\n      <td>CS300018</td>\n      <td>3.082769e+11</td>\n    </tr>\n    <tr>\n      <th>243</th>\n      <td>U</td>\n      <td>CS300027</td>\n      <td>2.769634e+11</td>\n    </tr>\n    <tr>\n      <th>229</th>\n      <td>U</td>\n      <td>CS300010</td>\n      <td>2.627660e+11</td>\n    </tr>\n    <tr>\n      <th>197</th>\n      <td>U</td>\n      <td>CS100009</td>\n      <td>2.404014e+11</td>\n    </tr>\n    <tr>\n      <th>204</th>\n      <td>U</td>\n      <td>CS200007</td>\n      <td>2.287714e+11</td>\n    </tr>\n    <tr>\n      <th>203</th>\n      <td>U</td>\n      <td>CS200006</td>\n      <td>2.204301e+11</td>\n    </tr>\n    <tr>\n      <th>250</th>\n      <td>U</td>\n      <td>CS300036</td>\n      <td>2.028424e+11</td>\n    </tr>\n  </tbody>\n</table>\n</div>"
     },
     "execution_count": 10,
     "metadata": {},
     "output_type": "execute_result"
    }
   ],
   "source": [
    "market_df[market_df['상권_구분_코드']=='U'].sort_values(by='총_매출_금액', ascending=False).head(20)"
   ],
   "metadata": {
    "collapsed": false,
    "pycharm": {
     "name": "#%%\n"
    }
   }
  },
  {
   "cell_type": "code",
   "execution_count": null,
   "outputs": [],
   "source": [],
   "metadata": {
    "collapsed": false,
    "pycharm": {
     "name": "#%%\n"
    }
   }
  }
 ],
 "metadata": {
  "kernelspec": {
   "display_name": "Python 3",
   "language": "python",
   "name": "python3"
  },
  "language_info": {
   "codemirror_mode": {
    "name": "ipython",
    "version": 2
   },
   "file_extension": ".py",
   "mimetype": "text/x-python",
   "name": "python",
   "nbconvert_exporter": "python",
   "pygments_lexer": "ipython2",
   "version": "2.7.6"
  }
 },
 "nbformat": 4,
 "nbformat_minor": 0
}