{
 "cells": [
  {
   "cell_type": "code",
   "execution_count": 1,
   "metadata": {
    "collapsed": true,
    "pycharm": {
     "name": "#%%\n"
    }
   },
   "outputs": [],
   "source": [
    "import pandas as pd\n",
    "import numpy as np"
   ]
  },
  {
   "cell_type": "code",
   "execution_count": 19,
   "outputs": [],
   "source": [
    "url = \"./2021/서울_상권_매출_2021.csv\"\n",
    "data = pd.read_csv(url, encoding='cp949')"
   ],
   "metadata": {
    "collapsed": false,
    "pycharm": {
     "name": "#%%\n"
    }
   }
  },
  {
   "cell_type": "code",
   "execution_count": 20,
   "outputs": [],
   "source": [
    "com_sep = data.iloc[:, 2:4].drop_duplicates()\n",
    "com_sep.to_csv('상권_코드_구분.csv', index=False, encoding='ANSI')"
   ],
   "metadata": {
    "collapsed": false,
    "pycharm": {
     "name": "#%%\n"
    }
   }
  },
  {
   "cell_type": "code",
   "execution_count": 21,
   "outputs": [],
   "source": [
    "com_area = data.iloc[:, 4:6].drop_duplicates()\n",
    "com_area.to_csv('상권_구역_구분.csv', index=False, encoding='ANSI')"
   ],
   "metadata": {
    "collapsed": false,
    "pycharm": {
     "name": "#%%\n"
    }
   }
  },
  {
   "cell_type": "code",
   "execution_count": 22,
   "outputs": [],
   "source": [
    "com_service = data.iloc[:, 6:8].drop_duplicates()\n",
    "com_service.to_csv('서비스_코드_구분.csv', index=False, encoding='ANSI')"
   ],
   "metadata": {
    "collapsed": false,
    "pycharm": {
     "name": "#%%\n"
    }
   }
  },
  {
   "cell_type": "code",
   "execution_count": 23,
   "outputs": [],
   "source": [
    "df = data\n",
    "drop_col = ['상권_구분_코드_명', '상권_코드_명', '서비스_업종_코드_명']\n",
    "for c in drop_col:\n",
    "    df.drop(c, axis=1, inplace=True)"
   ],
   "metadata": {
    "collapsed": false,
    "pycharm": {
     "name": "#%%\n"
    }
   }
  },
  {
   "cell_type": "code",
   "execution_count": 24,
   "outputs": [
    {
     "data": {
      "text/plain": "Index(['기준_년_코드', '기준_분기_코드', '상권_구분_코드', '상권_코드', '서비스_업종_코드', '분기당_매출_금액',\n       '분기당_매출_건수', '주중_매출_비율', '주말_매출_비율', '월요일_매출_비율', '화요일_매출_비율',\n       '수요일_매출_비율', '목요일_매출_비율', '금요일_매출_비율', '토요일_매출_비율', '일요일_매출_비율',\n       '시간대_00~06_매출_비율', '시간대_06~11_매출_비율', '시간대_11~14_매출_비율',\n       '시간대_14~17_매출_비율', '시간대_17~21_매출_비율', '시간대_21~24_매출_비율', '남성_매출_비율',\n       '여성_매출_비율', '연령대_10_매출_비율', '연령대_20_매출_비율', '연령대_30_매출_비율',\n       '연령대_40_매출_비율', '연령대_50_매출_비율', '연령대_60_이상_매출_비율', '주중_매출_금액',\n       '주말_매출_금액', '월요일_매출_금액', '화요일_매출_금액', '수요일_매출_금액', '목요일_매출_금액',\n       '금요일_매출_금액', '토요일_매출_금액', '일요일_매출_금액', '시간대_00~06_매출_금액',\n       '시간대_06~11_매출_금액', '시간대_11~14_매출_금액', '시간대_14~17_매출_금액',\n       '시간대_17~21_매출_금액', '시간대_21~24_매출_금액', '남성_매출_금액', '여성_매출_금액',\n       '연령대_10_매출_금액', '연령대_20_매출_금액', '연령대_30_매출_금액', '연령대_40_매출_금액',\n       '연령대_50_매출_금액', '연령대_60_이상_매출_금액', '주중_매출_건수', '주말_매출_건수', '월요일_매출_건수',\n       '화요일_매출_건수', '수요일_매출_건수', '목요일_매출_건수', '금요일_매출_건수', '토요일_매출_건수',\n       '일요일_매출_건수', '시간대_건수~06_매출_건수', '시간대_건수~11_매출_건수', '시간대_건수~14_매출_건수',\n       '시간대_건수~17_매출_건수', '시간대_건수~21_매출_건수', '시간대_건수~24_매출_건수', '남성_매출_건수',\n       '여성_매출_건수', '연령대_10_매출_건수', '연령대_20_매출_건수', '연령대_30_매출_건수',\n       '연령대_40_매출_건수', '연령대_50_매출_건수', '연령대_60_이상_매출_건수', '점포수'],\n      dtype='object')"
     },
     "execution_count": 24,
     "metadata": {},
     "output_type": "execute_result"
    }
   ],
   "source": [
    "df.columns"
   ],
   "metadata": {
    "collapsed": false,
    "pycharm": {
     "name": "#%%\n"
    }
   }
  },
  {
   "cell_type": "code",
   "execution_count": 25,
   "outputs": [],
   "source": [
    "df_basic = pd.concat([df.iloc[:, :7], df.iloc[:, -1:]], axis=1)\n",
    "df_weekday_per = df.iloc[:, 7:16]\n",
    "df_time_per = df.iloc[:, 16:22]\n",
    "df_age_per = df.iloc[:, 22:30]\n",
    "df_weekday = df.iloc[:, 30:39]\n",
    "df_time = df.iloc[:, 39:45]\n",
    "df_age = df.iloc[:, 45:53]"
   ],
   "metadata": {
    "collapsed": false,
    "pycharm": {
     "name": "#%%\n"
    }
   }
  },
  {
   "cell_type": "code",
   "execution_count": 26,
   "outputs": [],
   "source": [
    "number_data = pd.concat([df_basic, df_weekday, df_time, df_age], axis=1)\n",
    "number_data.to_csv('서울_상권_매출_2021(NoRatio).csv', encoding='ANSI')"
   ],
   "metadata": {
    "collapsed": false,
    "pycharm": {
     "name": "#%%\n"
    }
   }
  },
  {
   "cell_type": "code",
   "execution_count": 27,
   "outputs": [
    {
     "data": {
      "text/plain": "Index(['기준_년_코드', '기준_분기_코드', '상권_구분_코드', '상권_코드', '서비스_업종_코드', '분기당_매출_금액',\n       '분기당_매출_건수', '점포수', '주중_매출_금액', '주말_매출_금액', '월요일_매출_금액', '화요일_매출_금액',\n       '수요일_매출_금액', '목요일_매출_금액', '금요일_매출_금액', '토요일_매출_금액', '일요일_매출_금액',\n       '시간대_00~06_매출_금액', '시간대_06~11_매출_금액', '시간대_11~14_매출_금액',\n       '시간대_14~17_매출_금액', '시간대_17~21_매출_금액', '시간대_21~24_매출_금액', '남성_매출_금액',\n       '여성_매출_금액', '연령대_10_매출_금액', '연령대_20_매출_금액', '연령대_30_매출_금액',\n       '연령대_40_매출_금액', '연령대_50_매출_금액', '연령대_60_이상_매출_금액'],\n      dtype='object')"
     },
     "execution_count": 27,
     "metadata": {},
     "output_type": "execute_result"
    }
   ],
   "source": [
    "number_data.columns"
   ],
   "metadata": {
    "collapsed": false,
    "pycharm": {
     "name": "#%%\n"
    }
   }
  },
  {
   "cell_type": "code",
   "execution_count": 43,
   "outputs": [],
   "source": [
    "weekday_data = pd.concat([df_basic, df_weekday, df_weekday_per], axis=1)\n",
    "weekday_data.to_csv('요일별_매출_2019.csv', index=False, encoding='ANSI')"
   ],
   "metadata": {
    "collapsed": false,
    "pycharm": {
     "name": "#%%\n"
    }
   }
  },
  {
   "cell_type": "code",
   "execution_count": 44,
   "outputs": [],
   "source": [
    "time_data = pd.concat([df_basic, df_time, df_time_per], axis=1)\n",
    "time_data.to_csv('시간별_매출_2019.csv', index=False, encoding='ANSI')"
   ],
   "metadata": {
    "collapsed": false,
    "pycharm": {
     "name": "#%%\n"
    }
   }
  },
  {
   "cell_type": "code",
   "execution_count": 45,
   "outputs": [],
   "source": [
    "age_data = pd.concat([df_basic, df_age, df_age_per], axis=1)\n",
    "age_data.to_csv('성별_연령별_매출_2019.csv', index=False, encoding='ANSI')"
   ],
   "metadata": {
    "collapsed": false,
    "pycharm": {
     "name": "#%%\n"
    }
   }
  },
  {
   "cell_type": "code",
   "execution_count": 12,
   "outputs": [
    {
     "data": {
      "text/plain": "   기준_년_코드  기준_분기_코드 상권_구분_코드    상권_코드 서비스_업종_코드    분기당_매출_금액  분기당_매출_건수  점포수  \\\n0     2020         3        R  1001370  CS300009   33850673.0        300    2   \n1     2020         3        R  1001386  CS200001   35211411.0        110    1   \n2     2020         1        A  1000022  CS200001   22367209.0         82    2   \n3     2020         3        R  1001402  CS100009     985883.0          6    3   \n4     2020         1        A  1000001  CS100001  431442455.0      18548   19   \n\n   시간대_00~06_매출_금액  시간대_06~11_매출_금액  시간대_11~14_매출_금액  시간대_14~17_매출_금액  \\\n0                0          1497817        1397963.0       30954893.0   \n1                0                0        2567499.0       32643912.0   \n2                0                0              0.0              0.0   \n3           985883                0              0.0              0.0   \n4                0          2948631      199264316.0       50651452.0   \n\n   시간대_17~21_매출_금액  시간대_21~24_매출_금액  시간대_00~06_매출_비율  시간대_06~11_매출_비율  \\\n0              0.0                0                0               25   \n1              0.0                0                0                0   \n2       22367209.0                0                0                0   \n3              0.0                0              100                0   \n4      152694784.0         25883272                0                2   \n\n   시간대_11~14_매출_비율  시간대_14~17_매출_비율  시간대_17~21_매출_비율  시간대_21~24_매출_비율  \n0               50               25                0                0  \n1               16               84                0                0  \n2                0                0              100                0  \n3                0                0                0                0  \n4               47               13               36                2  ",
      "text/html": "<div>\n<style scoped>\n    .dataframe tbody tr th:only-of-type {\n        vertical-align: middle;\n    }\n\n    .dataframe tbody tr th {\n        vertical-align: top;\n    }\n\n    .dataframe thead th {\n        text-align: right;\n    }\n</style>\n<table border=\"1\" class=\"dataframe\">\n  <thead>\n    <tr style=\"text-align: right;\">\n      <th></th>\n      <th>기준_년_코드</th>\n      <th>기준_분기_코드</th>\n      <th>상권_구분_코드</th>\n      <th>상권_코드</th>\n      <th>서비스_업종_코드</th>\n      <th>분기당_매출_금액</th>\n      <th>분기당_매출_건수</th>\n      <th>점포수</th>\n      <th>시간대_00~06_매출_금액</th>\n      <th>시간대_06~11_매출_금액</th>\n      <th>시간대_11~14_매출_금액</th>\n      <th>시간대_14~17_매출_금액</th>\n      <th>시간대_17~21_매출_금액</th>\n      <th>시간대_21~24_매출_금액</th>\n      <th>시간대_00~06_매출_비율</th>\n      <th>시간대_06~11_매출_비율</th>\n      <th>시간대_11~14_매출_비율</th>\n      <th>시간대_14~17_매출_비율</th>\n      <th>시간대_17~21_매출_비율</th>\n      <th>시간대_21~24_매출_비율</th>\n    </tr>\n  </thead>\n  <tbody>\n    <tr>\n      <th>0</th>\n      <td>2020</td>\n      <td>3</td>\n      <td>R</td>\n      <td>1001370</td>\n      <td>CS300009</td>\n      <td>33850673.0</td>\n      <td>300</td>\n      <td>2</td>\n      <td>0</td>\n      <td>1497817</td>\n      <td>1397963.0</td>\n      <td>30954893.0</td>\n      <td>0.0</td>\n      <td>0</td>\n      <td>0</td>\n      <td>25</td>\n      <td>50</td>\n      <td>25</td>\n      <td>0</td>\n      <td>0</td>\n    </tr>\n    <tr>\n      <th>1</th>\n      <td>2020</td>\n      <td>3</td>\n      <td>R</td>\n      <td>1001386</td>\n      <td>CS200001</td>\n      <td>35211411.0</td>\n      <td>110</td>\n      <td>1</td>\n      <td>0</td>\n      <td>0</td>\n      <td>2567499.0</td>\n      <td>32643912.0</td>\n      <td>0.0</td>\n      <td>0</td>\n      <td>0</td>\n      <td>0</td>\n      <td>16</td>\n      <td>84</td>\n      <td>0</td>\n      <td>0</td>\n    </tr>\n    <tr>\n      <th>2</th>\n      <td>2020</td>\n      <td>1</td>\n      <td>A</td>\n      <td>1000022</td>\n      <td>CS200001</td>\n      <td>22367209.0</td>\n      <td>82</td>\n      <td>2</td>\n      <td>0</td>\n      <td>0</td>\n      <td>0.0</td>\n      <td>0.0</td>\n      <td>22367209.0</td>\n      <td>0</td>\n      <td>0</td>\n      <td>0</td>\n      <td>0</td>\n      <td>0</td>\n      <td>100</td>\n      <td>0</td>\n    </tr>\n    <tr>\n      <th>3</th>\n      <td>2020</td>\n      <td>3</td>\n      <td>R</td>\n      <td>1001402</td>\n      <td>CS100009</td>\n      <td>985883.0</td>\n      <td>6</td>\n      <td>3</td>\n      <td>985883</td>\n      <td>0</td>\n      <td>0.0</td>\n      <td>0.0</td>\n      <td>0.0</td>\n      <td>0</td>\n      <td>100</td>\n      <td>0</td>\n      <td>0</td>\n      <td>0</td>\n      <td>0</td>\n      <td>0</td>\n    </tr>\n    <tr>\n      <th>4</th>\n      <td>2020</td>\n      <td>1</td>\n      <td>A</td>\n      <td>1000001</td>\n      <td>CS100001</td>\n      <td>431442455.0</td>\n      <td>18548</td>\n      <td>19</td>\n      <td>0</td>\n      <td>2948631</td>\n      <td>199264316.0</td>\n      <td>50651452.0</td>\n      <td>152694784.0</td>\n      <td>25883272</td>\n      <td>0</td>\n      <td>2</td>\n      <td>47</td>\n      <td>13</td>\n      <td>36</td>\n      <td>2</td>\n    </tr>\n  </tbody>\n</table>\n</div>"
     },
     "execution_count": 12,
     "metadata": {},
     "output_type": "execute_result"
    }
   ],
   "source": [
    "time_data = pd.concat([df_basic, df_time, df_time_per], axis=1)\n",
    "time_data.head()"
   ],
   "metadata": {
    "collapsed": false,
    "pycharm": {
     "name": "#%%\n"
    }
   }
  },
  {
   "cell_type": "code",
   "execution_count": 46,
   "outputs": [
    {
     "data": {
      "text/plain": "Index(['기준_년_코드', '기준_분기_코드', '상권_구분_코드', '상권_코드', '서비스_업종_코드', '분기당_매출_금액',\n       '분기당_매출_건수', '주중_매출_비율', '주말_매출_비율', '월요일_매출_비율', '화요일_매출_비율',\n       '수요일_매출_비율', '목요일_매출_비율', '금요일_매출_비율', '토요일_매출_비율', '일요일_매출_비율',\n       '시간대_00~06_매출_비율', '시간대_06~11_매출_비율', '시간대_11~14_매출_비율',\n       '시간대_14~17_매출_비율', '시간대_17~21_매출_비율', '시간대_21~24_매출_비율', '남성_매출_비율',\n       '여성_매출_비율', '연령대_10_매출_비율', '연령대_20_매출_비율', '연령대_30_매출_비율',\n       '연령대_40_매출_비율', '연령대_50_매출_비율', '연령대_60_이상_매출_비율', '주중_매출_금액',\n       '주말_매출_금액', '월요일_매출_금액', '화요일_매출_금액', '수요일_매출_금액', '목요일_매출_금액',\n       '금요일_매출_금액', '토요일_매출_금액', '일요일_매출_금액', '시간대_00~06_매출_금액',\n       '시간대_06~11_매출_금액', '시간대_11~14_매출_금액', '시간대_14~17_매출_금액',\n       '시간대_17~21_매출_금액', '시간대_21~24_매출_금액', '남성_매출_금액', '여성_매출_금액',\n       '연령대_10_매출_금액', '연령대_20_매출_금액', '연령대_30_매출_금액', '연령대_40_매출_금액',\n       '연령대_50_매출_금액', '연령대_60_이상_매출_금액', '주중_매출_건수', '주말_매출_건수', '월요일_매출_건수',\n       '화요일_매출_건수', '수요일_매출_건수', '목요일_매출_건수', '금요일_매출_건수', '토요일_매출_건수',\n       '일요일_매출_건수', '시간대_건수~06_매출_건수', '시간대_건수~11_매출_건수', '시간대_건수~14_매출_건수',\n       '시간대_건수~17_매출_건수', '시간대_건수~21_매출_건수', '시간대_건수~24_매출_건수', '남성_매출_건수',\n       '여성_매출_건수', '연령대_10_매출_건수', '연령대_20_매출_건수', '연령대_30_매출_건수',\n       '연령대_40_매출_건수', '연령대_50_매출_건수', '연령대_60_이상_매출_건수', '점포수'],\n      dtype='object')"
     },
     "execution_count": 46,
     "metadata": {},
     "output_type": "execute_result"
    }
   ],
   "source": [
    "data.columns"
   ],
   "metadata": {
    "collapsed": false,
    "pycharm": {
     "name": "#%%\n"
    }
   }
  },
  {
   "cell_type": "code",
   "execution_count": 35,
   "outputs": [],
   "source": [
    "df_2019 = pd.read_csv('./서울_상권_매출_2019(NoRatio).csv', encoding='ANSI', index_col=0)\n",
    "df_2020 = pd.read_csv('./서울_상권_매출_2020(NoRatio).csv', encoding='ANSI', index_col=0)\n",
    "df_2021 = pd.read_csv('./서울_상권_매출_2021(NoRatio).csv', encoding='ANSI', index_col=0)"
   ],
   "metadata": {
    "collapsed": false,
    "pycharm": {
     "name": "#%%\n"
    }
   }
  },
  {
   "cell_type": "code",
   "execution_count": 44,
   "outputs": [],
   "source": [
    "df_all = pd.concat([df_2019, df_2020, df_2021], axis=0)"
   ],
   "metadata": {
    "collapsed": false,
    "pycharm": {
     "name": "#%%\n"
    }
   }
  },
  {
   "cell_type": "code",
   "execution_count": 47,
   "outputs": [],
   "source": [
    "df_all.to_csv('서울_상권_매출_(2019-2021).csv', encoding='ANSI')"
   ],
   "metadata": {
    "collapsed": false,
    "pycharm": {
     "name": "#%%\n"
    }
   }
  },
  {
   "cell_type": "code",
   "execution_count": 46,
   "outputs": [
    {
     "data": {
      "text/plain": "0        2019\n1        2019\n2        2019\n3        2019\n4        2019\n         ... \n96890    2021\n96891    2021\n96892    2021\n96893    2021\n96894    2021\nName: 기준_년_코드, Length: 364794, dtype: int64"
     },
     "execution_count": 46,
     "metadata": {},
     "output_type": "execute_result"
    }
   ],
   "source": [
    "df_all.기준_년_코드"
   ],
   "metadata": {
    "collapsed": false,
    "pycharm": {
     "name": "#%%\n"
    }
   }
  },
  {
   "cell_type": "code",
   "execution_count": null,
   "outputs": [],
   "source": [],
   "metadata": {
    "collapsed": false,
    "pycharm": {
     "name": "#%%\n"
    }
   }
  }
 ],
 "metadata": {
  "kernelspec": {
   "display_name": "Python 3",
   "language": "python",
   "name": "python3"
  },
  "language_info": {
   "codemirror_mode": {
    "name": "ipython",
    "version": 2
   },
   "file_extension": ".py",
   "mimetype": "text/x-python",
   "name": "python",
   "nbconvert_exporter": "python",
   "pygments_lexer": "ipython2",
   "version": "2.7.6"
  }
 },
 "nbformat": 4,
 "nbformat_minor": 0
}