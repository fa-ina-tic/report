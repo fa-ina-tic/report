{
 "cells": [
  {
   "cell_type": "code",
   "execution_count": 1,
   "metadata": {
    "collapsed": true
   },
   "outputs": [],
   "source": [
    "import pandas as pd\n",
    "import numpy as np"
   ]
  },
  {
   "cell_type": "code",
   "execution_count": 2,
   "outputs": [],
   "source": [
    "url = 'seoul_subway_timetable.csv'\n",
    "data = pd.read_csv(url, encoding='cp949')"
   ],
   "metadata": {
    "collapsed": false,
    "pycharm": {
     "name": "#%%\n"
    }
   }
  },
  {
   "cell_type": "code",
   "execution_count": 3,
   "outputs": [],
   "source": [
    "df_2 = data.copy()\n",
    "df_2.drop('작업일자', axis=1, inplace=True)"
   ],
   "metadata": {
    "collapsed": false,
    "pycharm": {
     "name": "#%%\n"
    }
   }
  },
  {
   "cell_type": "code",
   "execution_count": 4,
   "outputs": [],
   "source": [
    "people = df_2.columns[3:]\n",
    "people_on = []\n",
    "people_off = []\n",
    "\n",
    "for i in people:\n",
    "    if i[-4:] == '승차인원':\n",
    "        people_on.append(i)\n",
    "    else:\n",
    "        people_off.append(i)"
   ],
   "metadata": {
    "collapsed": false,
    "pycharm": {
     "name": "#%%\n"
    }
   }
  },
  {
   "cell_type": "code",
   "execution_count": 5,
   "outputs": [],
   "source": [
    "df_2['총승차인원'] = df_2[people_on].sum(axis=1)\n",
    "df_2['총하자인원'] = df_2[people_off].sum(axis=1)"
   ],
   "metadata": {
    "collapsed": false,
    "pycharm": {
     "name": "#%%\n"
    }
   }
  },
  {
   "cell_type": "code",
   "execution_count": 6,
   "outputs": [],
   "source": [
    "people_dawn_on = people_on[:2] + people_on[-4:]\n",
    "people_morning_on = people_on[2:7]\n",
    "people_lunch_on = people_on[7:10]\n",
    "people_afternoon_on = people_on[10:13]\n",
    "people_dinner_on = people_on[13:16]\n",
    "people_night_on = people_on[16:19]"
   ],
   "metadata": {
    "collapsed": false,
    "pycharm": {
     "name": "#%%\n"
    }
   }
  },
  {
   "cell_type": "code",
   "execution_count": 7,
   "outputs": [],
   "source": [
    "people_dawn_off = people_off[:2] + people_off[-4:]\n",
    "people_morning_off = people_off[2:7]\n",
    "people_lunch_off = people_off[7:10]\n",
    "people_afternoon_off = people_off[10:13]\n",
    "people_dinner_off = people_off[13:16]\n",
    "people_night_off = people_off[16:19]"
   ],
   "metadata": {
    "collapsed": false,
    "pycharm": {
     "name": "#%%\n"
    }
   }
  },
  {
   "cell_type": "code",
   "execution_count": 8,
   "outputs": [],
   "source": [
    "df_3 = pd.DataFrame()\n",
    "df_3['시간대_00~06_승차_인원'] = df_2[people_dawn_on].sum(axis=1)\n",
    "df_3['시간대_06~11_승차_인원'] = df_2[people_morning_on].sum(axis=1)\n",
    "df_3['시간대_11~14_승차_인원'] = df_2[people_lunch_on].sum(axis=1)\n",
    "df_3['시간대_14~17_승차_인원'] = df_2[people_afternoon_on].sum(axis=1)\n",
    "df_3['시간대_17~21_승차_인원'] = df_2[people_dinner_on].sum(axis=1)\n",
    "df_3['시간대_21~24_승차_인원'] = df_2[people_night_on].sum(axis=1)\n",
    "\n",
    "df_3['시간대_00~06_하차_인원'] = df_2[people_dawn_off].sum(axis=1)\n",
    "df_3['시간대_06~11_하차_인원'] = df_2[people_morning_off].sum(axis=1)\n",
    "df_3['시간대_11~14_하차_인원'] = df_2[people_lunch_off].sum(axis=1)\n",
    "df_3['시간대_14~17_하차_인원'] = df_2[people_afternoon_off].sum(axis=1)\n",
    "df_3['시간대_17~21_하차_인원'] = df_2[people_dinner_off].sum(axis=1)\n",
    "df_3['시간대_21~24_하차_인원'] = df_2[people_night_off].sum(axis=1)"
   ],
   "metadata": {
    "collapsed": false,
    "pycharm": {
     "name": "#%%\n"
    }
   }
  },
  {
   "cell_type": "code",
   "execution_count": 9,
   "outputs": [],
   "source": [
    "def quarter(x):\n",
    "    if x in ['01', '02', '03']:\n",
    "        return 1\n",
    "    if x in ['04', '05', '06']:\n",
    "        return 2\n",
    "    if x in ['07', '08', '09']:\n",
    "        return 3\n",
    "    if x in ['10', '11', '12']:\n",
    "        return 4\n",
    "\n",
    "df_2['사용월'] = df_2['사용월'].astype('str')\n",
    "df_2['년도'] = df_2['사용월'].str.slice(start=0, stop=4)\n",
    "df_2['분기'] = df_2['사용월'].str.slice(start=4, stop=6)\n",
    "df_2['분기'] = df_2['분기'].apply(quarter)"
   ],
   "metadata": {
    "collapsed": false,
    "pycharm": {
     "name": "#%%\n"
    }
   }
  },
  {
   "cell_type": "code",
   "execution_count": 10,
   "outputs": [
    {
     "data": {
      "text/plain": "          사용월  호선명 지하철역  04시-05시 승차인원  04시-05시 하차인원  05시-06시 승차인원  \\\n0      202112  1호선  동대문           803            15         12276   \n1      202112  1호선  동묘앞           116             0          2423   \n2      202112  1호선  서울역           769            16          8460   \n3      202112  1호선   시청            37             2          1902   \n4      202112  1호선  신설동           383             6          7270   \n...       ...  ...  ...           ...           ...           ...   \n48981  201501  중앙선  운길산             0             0           177   \n48982  201501  중앙선   원덕             1             0           292   \n48983  201501  중앙선   중랑            14             1          4929   \n48984  201501  중앙선   팔당             0             0           161   \n48985  201501  중앙선   회기           436             3         10929   \n\n       05시-06시 하차인원  06시-07시 승차인원  06시-07시 하차인원  07시-08시 승차인원  ...  \\\n0              1913          8716          5492         13464  ...   \n1               756          3270          3915          5412  ...   \n2              6094         11185         35735         34375  ...   \n3              4537          2827         19095          6322  ...   \n4              2738          7731         10318         15891  ...   \n...             ...           ...           ...           ...  ...   \n48981            56           642           403          1292  ...   \n48982             4           415            46           537  ...   \n48983           424          8539          2084         22160  ...   \n48984            50           368           149          1227  ...   \n48985          3067         23317         10430         65043  ...   \n\n       01시-02시 승차인원  01시-02시 하차인원  02시-03시 승차인원  02시-03시 하차인원  03시-04시 승차인원  \\\n0                 0             0             0             0             0   \n1                 1             1             0             1             0   \n2                 0             2             0             0             0   \n3                 0             1             0             0             0   \n4                 0             0             0             0             0   \n...             ...           ...           ...           ...           ...   \n48981             0             0             0             0             0   \n48982             0             0             0             0             0   \n48983             0             0             0             0             0   \n48984             0             0             0             0             0   \n48985             0             0             0             0             0   \n\n       03시-04시 하차인원    총승차인원    총하자인원    년도  분기  \n0                 0   308782   289581  2021   4  \n1                 0   235271   242269  2021   4  \n2                 0  1182429  1142388  2021   4  \n3                 0   570037   569533  2021   4  \n4                 0   362626   352755  2021   4  \n...             ...      ...      ...   ...  ..  \n48981             0    31355    27964  2015   1  \n48982             0     9302     8835  2015   1  \n48983             0   180969   173412  2015   1  \n48984             0    20806    19999  2015   1  \n48985             0   858534   842898  2015   1  \n\n[48986 rows x 55 columns]",
      "text/html": "<div>\n<style scoped>\n    .dataframe tbody tr th:only-of-type {\n        vertical-align: middle;\n    }\n\n    .dataframe tbody tr th {\n        vertical-align: top;\n    }\n\n    .dataframe thead th {\n        text-align: right;\n    }\n</style>\n<table border=\"1\" class=\"dataframe\">\n  <thead>\n    <tr style=\"text-align: right;\">\n      <th></th>\n      <th>사용월</th>\n      <th>호선명</th>\n      <th>지하철역</th>\n      <th>04시-05시 승차인원</th>\n      <th>04시-05시 하차인원</th>\n      <th>05시-06시 승차인원</th>\n      <th>05시-06시 하차인원</th>\n      <th>06시-07시 승차인원</th>\n      <th>06시-07시 하차인원</th>\n      <th>07시-08시 승차인원</th>\n      <th>...</th>\n      <th>01시-02시 승차인원</th>\n      <th>01시-02시 하차인원</th>\n      <th>02시-03시 승차인원</th>\n      <th>02시-03시 하차인원</th>\n      <th>03시-04시 승차인원</th>\n      <th>03시-04시 하차인원</th>\n      <th>총승차인원</th>\n      <th>총하자인원</th>\n      <th>년도</th>\n      <th>분기</th>\n    </tr>\n  </thead>\n  <tbody>\n    <tr>\n      <th>0</th>\n      <td>202112</td>\n      <td>1호선</td>\n      <td>동대문</td>\n      <td>803</td>\n      <td>15</td>\n      <td>12276</td>\n      <td>1913</td>\n      <td>8716</td>\n      <td>5492</td>\n      <td>13464</td>\n      <td>...</td>\n      <td>0</td>\n      <td>0</td>\n      <td>0</td>\n      <td>0</td>\n      <td>0</td>\n      <td>0</td>\n      <td>308782</td>\n      <td>289581</td>\n      <td>2021</td>\n      <td>4</td>\n    </tr>\n    <tr>\n      <th>1</th>\n      <td>202112</td>\n      <td>1호선</td>\n      <td>동묘앞</td>\n      <td>116</td>\n      <td>0</td>\n      <td>2423</td>\n      <td>756</td>\n      <td>3270</td>\n      <td>3915</td>\n      <td>5412</td>\n      <td>...</td>\n      <td>1</td>\n      <td>1</td>\n      <td>0</td>\n      <td>1</td>\n      <td>0</td>\n      <td>0</td>\n      <td>235271</td>\n      <td>242269</td>\n      <td>2021</td>\n      <td>4</td>\n    </tr>\n    <tr>\n      <th>2</th>\n      <td>202112</td>\n      <td>1호선</td>\n      <td>서울역</td>\n      <td>769</td>\n      <td>16</td>\n      <td>8460</td>\n      <td>6094</td>\n      <td>11185</td>\n      <td>35735</td>\n      <td>34375</td>\n      <td>...</td>\n      <td>0</td>\n      <td>2</td>\n      <td>0</td>\n      <td>0</td>\n      <td>0</td>\n      <td>0</td>\n      <td>1182429</td>\n      <td>1142388</td>\n      <td>2021</td>\n      <td>4</td>\n    </tr>\n    <tr>\n      <th>3</th>\n      <td>202112</td>\n      <td>1호선</td>\n      <td>시청</td>\n      <td>37</td>\n      <td>2</td>\n      <td>1902</td>\n      <td>4537</td>\n      <td>2827</td>\n      <td>19095</td>\n      <td>6322</td>\n      <td>...</td>\n      <td>0</td>\n      <td>1</td>\n      <td>0</td>\n      <td>0</td>\n      <td>0</td>\n      <td>0</td>\n      <td>570037</td>\n      <td>569533</td>\n      <td>2021</td>\n      <td>4</td>\n    </tr>\n    <tr>\n      <th>4</th>\n      <td>202112</td>\n      <td>1호선</td>\n      <td>신설동</td>\n      <td>383</td>\n      <td>6</td>\n      <td>7270</td>\n      <td>2738</td>\n      <td>7731</td>\n      <td>10318</td>\n      <td>15891</td>\n      <td>...</td>\n      <td>0</td>\n      <td>0</td>\n      <td>0</td>\n      <td>0</td>\n      <td>0</td>\n      <td>0</td>\n      <td>362626</td>\n      <td>352755</td>\n      <td>2021</td>\n      <td>4</td>\n    </tr>\n    <tr>\n      <th>...</th>\n      <td>...</td>\n      <td>...</td>\n      <td>...</td>\n      <td>...</td>\n      <td>...</td>\n      <td>...</td>\n      <td>...</td>\n      <td>...</td>\n      <td>...</td>\n      <td>...</td>\n      <td>...</td>\n      <td>...</td>\n      <td>...</td>\n      <td>...</td>\n      <td>...</td>\n      <td>...</td>\n      <td>...</td>\n      <td>...</td>\n      <td>...</td>\n      <td>...</td>\n      <td>...</td>\n    </tr>\n    <tr>\n      <th>48981</th>\n      <td>201501</td>\n      <td>중앙선</td>\n      <td>운길산</td>\n      <td>0</td>\n      <td>0</td>\n      <td>177</td>\n      <td>56</td>\n      <td>642</td>\n      <td>403</td>\n      <td>1292</td>\n      <td>...</td>\n      <td>0</td>\n      <td>0</td>\n      <td>0</td>\n      <td>0</td>\n      <td>0</td>\n      <td>0</td>\n      <td>31355</td>\n      <td>27964</td>\n      <td>2015</td>\n      <td>1</td>\n    </tr>\n    <tr>\n      <th>48982</th>\n      <td>201501</td>\n      <td>중앙선</td>\n      <td>원덕</td>\n      <td>1</td>\n      <td>0</td>\n      <td>292</td>\n      <td>4</td>\n      <td>415</td>\n      <td>46</td>\n      <td>537</td>\n      <td>...</td>\n      <td>0</td>\n      <td>0</td>\n      <td>0</td>\n      <td>0</td>\n      <td>0</td>\n      <td>0</td>\n      <td>9302</td>\n      <td>8835</td>\n      <td>2015</td>\n      <td>1</td>\n    </tr>\n    <tr>\n      <th>48983</th>\n      <td>201501</td>\n      <td>중앙선</td>\n      <td>중랑</td>\n      <td>14</td>\n      <td>1</td>\n      <td>4929</td>\n      <td>424</td>\n      <td>8539</td>\n      <td>2084</td>\n      <td>22160</td>\n      <td>...</td>\n      <td>0</td>\n      <td>0</td>\n      <td>0</td>\n      <td>0</td>\n      <td>0</td>\n      <td>0</td>\n      <td>180969</td>\n      <td>173412</td>\n      <td>2015</td>\n      <td>1</td>\n    </tr>\n    <tr>\n      <th>48984</th>\n      <td>201501</td>\n      <td>중앙선</td>\n      <td>팔당</td>\n      <td>0</td>\n      <td>0</td>\n      <td>161</td>\n      <td>50</td>\n      <td>368</td>\n      <td>149</td>\n      <td>1227</td>\n      <td>...</td>\n      <td>0</td>\n      <td>0</td>\n      <td>0</td>\n      <td>0</td>\n      <td>0</td>\n      <td>0</td>\n      <td>20806</td>\n      <td>19999</td>\n      <td>2015</td>\n      <td>1</td>\n    </tr>\n    <tr>\n      <th>48985</th>\n      <td>201501</td>\n      <td>중앙선</td>\n      <td>회기</td>\n      <td>436</td>\n      <td>3</td>\n      <td>10929</td>\n      <td>3067</td>\n      <td>23317</td>\n      <td>10430</td>\n      <td>65043</td>\n      <td>...</td>\n      <td>0</td>\n      <td>0</td>\n      <td>0</td>\n      <td>0</td>\n      <td>0</td>\n      <td>0</td>\n      <td>858534</td>\n      <td>842898</td>\n      <td>2015</td>\n      <td>1</td>\n    </tr>\n  </tbody>\n</table>\n<p>48986 rows × 55 columns</p>\n</div>"
     },
     "execution_count": 10,
     "metadata": {},
     "output_type": "execute_result"
    }
   ],
   "source": [
    "df_2"
   ],
   "metadata": {
    "collapsed": false,
    "pycharm": {
     "name": "#%%\n"
    }
   }
  },
  {
   "cell_type": "code",
   "execution_count": 13,
   "outputs": [],
   "source": [
    "df_3 = pd.concat([df_2[['년도', '분기', '호선명', '지하철역']], df_3], axis=1)"
   ],
   "metadata": {
    "collapsed": false,
    "pycharm": {
     "name": "#%%\n"
    }
   }
  },
  {
   "cell_type": "code",
   "execution_count": 14,
   "outputs": [
    {
     "data": {
      "text/plain": "         년도  분기  호선명 지하철역  시간대_00~06_승차_인원  시간대_06~11_승차_인원  시간대_11~14_승차_인원  \\\n0      2021   4  1호선  동대문            13103            72419            56355   \n1      2021   4  1호선  동묘앞             2550            32696            51084   \n2      2021   4  1호선  서울역             9290           189315           180624   \n3      2021   4  1호선   시청             1967            35498            53986   \n4      2021   4  1호선  신설동             7690            78372            55250   \n...     ...  ..  ...  ...              ...              ...              ...   \n48981  2015   1  중앙선  운길산              180             6259             4528   \n48982  2015   1  중앙선   원덕              296             3780             1975   \n48983  2015   1  중앙선   중랑             5029            81936            31703   \n48984  2015   1  중앙선   팔당              169             4411             3361   \n48985  2015   1  중앙선   회기            12132           270783           144714   \n\n       시간대_14~17_승차_인원  시간대_17~21_승차_인원  시간대_21~24_승차_인원  시간대_00~06_하차_인원  \\\n0                71947            60632            31709             3283   \n1                89042            47186            11733             2195   \n2               218776           400467           171438             6953   \n3               102880           259112           111310             4693   \n4                73668           113195            32171             3607   \n...                ...              ...              ...              ...   \n48981            10856             7207             2214              278   \n48982             1744             1219              280              161   \n48983            25992            23127            11563             2042   \n48984             6815             4722             1221              135   \n48985           152658           160318            99724            12384   \n\n       시간대_06~11_하차_인원  시간대_11~14_하차_인원  시간대_14~17_하차_인원  시간대_17~21_하차_인원  \\\n0                77090            61033            56837            52155   \n1                60568            73968            64857            24857   \n2               493809           173241           175172           200263   \n3               354148            83962            60813            50374   \n4               142757            53090            52160            62631   \n...                ...              ...              ...              ...   \n48981             9411             7017             4346             3975   \n48982             1408             1431             1927             2170   \n48983            23422            18841            30749            54757   \n48984             8686             4429             2885             2550   \n48985           171200           116710           135891           217166   \n\n       시간대_21~24_하차_인원  \n0                31504  \n1                13333  \n2                84247  \n3                13830  \n4                32597  \n...                ...  \n48981             2304  \n48982             1355  \n48983            37100  \n48984              978  \n48985           153845  \n\n[48986 rows x 16 columns]",
      "text/html": "<div>\n<style scoped>\n    .dataframe tbody tr th:only-of-type {\n        vertical-align: middle;\n    }\n\n    .dataframe tbody tr th {\n        vertical-align: top;\n    }\n\n    .dataframe thead th {\n        text-align: right;\n    }\n</style>\n<table border=\"1\" class=\"dataframe\">\n  <thead>\n    <tr style=\"text-align: right;\">\n      <th></th>\n      <th>년도</th>\n      <th>분기</th>\n      <th>호선명</th>\n      <th>지하철역</th>\n      <th>시간대_00~06_승차_인원</th>\n      <th>시간대_06~11_승차_인원</th>\n      <th>시간대_11~14_승차_인원</th>\n      <th>시간대_14~17_승차_인원</th>\n      <th>시간대_17~21_승차_인원</th>\n      <th>시간대_21~24_승차_인원</th>\n      <th>시간대_00~06_하차_인원</th>\n      <th>시간대_06~11_하차_인원</th>\n      <th>시간대_11~14_하차_인원</th>\n      <th>시간대_14~17_하차_인원</th>\n      <th>시간대_17~21_하차_인원</th>\n      <th>시간대_21~24_하차_인원</th>\n    </tr>\n  </thead>\n  <tbody>\n    <tr>\n      <th>0</th>\n      <td>2021</td>\n      <td>4</td>\n      <td>1호선</td>\n      <td>동대문</td>\n      <td>13103</td>\n      <td>72419</td>\n      <td>56355</td>\n      <td>71947</td>\n      <td>60632</td>\n      <td>31709</td>\n      <td>3283</td>\n      <td>77090</td>\n      <td>61033</td>\n      <td>56837</td>\n      <td>52155</td>\n      <td>31504</td>\n    </tr>\n    <tr>\n      <th>1</th>\n      <td>2021</td>\n      <td>4</td>\n      <td>1호선</td>\n      <td>동묘앞</td>\n      <td>2550</td>\n      <td>32696</td>\n      <td>51084</td>\n      <td>89042</td>\n      <td>47186</td>\n      <td>11733</td>\n      <td>2195</td>\n      <td>60568</td>\n      <td>73968</td>\n      <td>64857</td>\n      <td>24857</td>\n      <td>13333</td>\n    </tr>\n    <tr>\n      <th>2</th>\n      <td>2021</td>\n      <td>4</td>\n      <td>1호선</td>\n      <td>서울역</td>\n      <td>9290</td>\n      <td>189315</td>\n      <td>180624</td>\n      <td>218776</td>\n      <td>400467</td>\n      <td>171438</td>\n      <td>6953</td>\n      <td>493809</td>\n      <td>173241</td>\n      <td>175172</td>\n      <td>200263</td>\n      <td>84247</td>\n    </tr>\n    <tr>\n      <th>3</th>\n      <td>2021</td>\n      <td>4</td>\n      <td>1호선</td>\n      <td>시청</td>\n      <td>1967</td>\n      <td>35498</td>\n      <td>53986</td>\n      <td>102880</td>\n      <td>259112</td>\n      <td>111310</td>\n      <td>4693</td>\n      <td>354148</td>\n      <td>83962</td>\n      <td>60813</td>\n      <td>50374</td>\n      <td>13830</td>\n    </tr>\n    <tr>\n      <th>4</th>\n      <td>2021</td>\n      <td>4</td>\n      <td>1호선</td>\n      <td>신설동</td>\n      <td>7690</td>\n      <td>78372</td>\n      <td>55250</td>\n      <td>73668</td>\n      <td>113195</td>\n      <td>32171</td>\n      <td>3607</td>\n      <td>142757</td>\n      <td>53090</td>\n      <td>52160</td>\n      <td>62631</td>\n      <td>32597</td>\n    </tr>\n    <tr>\n      <th>...</th>\n      <td>...</td>\n      <td>...</td>\n      <td>...</td>\n      <td>...</td>\n      <td>...</td>\n      <td>...</td>\n      <td>...</td>\n      <td>...</td>\n      <td>...</td>\n      <td>...</td>\n      <td>...</td>\n      <td>...</td>\n      <td>...</td>\n      <td>...</td>\n      <td>...</td>\n      <td>...</td>\n    </tr>\n    <tr>\n      <th>48981</th>\n      <td>2015</td>\n      <td>1</td>\n      <td>중앙선</td>\n      <td>운길산</td>\n      <td>180</td>\n      <td>6259</td>\n      <td>4528</td>\n      <td>10856</td>\n      <td>7207</td>\n      <td>2214</td>\n      <td>278</td>\n      <td>9411</td>\n      <td>7017</td>\n      <td>4346</td>\n      <td>3975</td>\n      <td>2304</td>\n    </tr>\n    <tr>\n      <th>48982</th>\n      <td>2015</td>\n      <td>1</td>\n      <td>중앙선</td>\n      <td>원덕</td>\n      <td>296</td>\n      <td>3780</td>\n      <td>1975</td>\n      <td>1744</td>\n      <td>1219</td>\n      <td>280</td>\n      <td>161</td>\n      <td>1408</td>\n      <td>1431</td>\n      <td>1927</td>\n      <td>2170</td>\n      <td>1355</td>\n    </tr>\n    <tr>\n      <th>48983</th>\n      <td>2015</td>\n      <td>1</td>\n      <td>중앙선</td>\n      <td>중랑</td>\n      <td>5029</td>\n      <td>81936</td>\n      <td>31703</td>\n      <td>25992</td>\n      <td>23127</td>\n      <td>11563</td>\n      <td>2042</td>\n      <td>23422</td>\n      <td>18841</td>\n      <td>30749</td>\n      <td>54757</td>\n      <td>37100</td>\n    </tr>\n    <tr>\n      <th>48984</th>\n      <td>2015</td>\n      <td>1</td>\n      <td>중앙선</td>\n      <td>팔당</td>\n      <td>169</td>\n      <td>4411</td>\n      <td>3361</td>\n      <td>6815</td>\n      <td>4722</td>\n      <td>1221</td>\n      <td>135</td>\n      <td>8686</td>\n      <td>4429</td>\n      <td>2885</td>\n      <td>2550</td>\n      <td>978</td>\n    </tr>\n    <tr>\n      <th>48985</th>\n      <td>2015</td>\n      <td>1</td>\n      <td>중앙선</td>\n      <td>회기</td>\n      <td>12132</td>\n      <td>270783</td>\n      <td>144714</td>\n      <td>152658</td>\n      <td>160318</td>\n      <td>99724</td>\n      <td>12384</td>\n      <td>171200</td>\n      <td>116710</td>\n      <td>135891</td>\n      <td>217166</td>\n      <td>153845</td>\n    </tr>\n  </tbody>\n</table>\n<p>48986 rows × 16 columns</p>\n</div>"
     },
     "execution_count": 14,
     "metadata": {},
     "output_type": "execute_result"
    }
   ],
   "source": [
    "df_3"
   ],
   "metadata": {
    "collapsed": false,
    "pycharm": {
     "name": "#%%\n"
    }
   }
  },
  {
   "cell_type": "code",
   "execution_count": 15,
   "outputs": [],
   "source": [
    "df_4 = df_3.groupby(['년도','분기', '호선명', '지하철역']).sum().reset_index()"
   ],
   "metadata": {
    "collapsed": false,
    "pycharm": {
     "name": "#%%\n"
    }
   }
  },
  {
   "cell_type": "code",
   "execution_count": 20,
   "outputs": [],
   "source": [
    "df_2021 = df_4[df_4['년도']=='2021']\n",
    "df_2020 = df_4[df_4['년도']=='2020']\n",
    "df_2019 = df_4[df_4['년도']=='2019']"
   ],
   "metadata": {
    "collapsed": false,
    "pycharm": {
     "name": "#%%\n"
    }
   }
  },
  {
   "cell_type": "code",
   "execution_count": 22,
   "outputs": [],
   "source": [
    "df_2021.to_csv('2021_승하차_인원.csv')\n",
    "df_2020.to_csv('2020_승하차_인원.csv')\n",
    "df_2019.to_csv('2019_승하차_인원.csv')"
   ],
   "metadata": {
    "collapsed": false,
    "pycharm": {
     "name": "#%%\n"
    }
   }
  },
  {
   "cell_type": "code",
   "execution_count": null,
   "outputs": [],
   "source": [],
   "metadata": {
    "collapsed": false,
    "pycharm": {
     "name": "#%%\n"
    }
   }
  }
 ],
 "metadata": {
  "kernelspec": {
   "display_name": "Python 3",
   "language": "python",
   "name": "python3"
  },
  "language_info": {
   "codemirror_mode": {
    "name": "ipython",
    "version": 2
   },
   "file_extension": ".py",
   "mimetype": "text/x-python",
   "name": "python",
   "nbconvert_exporter": "python",
   "pygments_lexer": "ipython2",
   "version": "2.7.6"
  }
 },
 "nbformat": 4,
 "nbformat_minor": 0
}