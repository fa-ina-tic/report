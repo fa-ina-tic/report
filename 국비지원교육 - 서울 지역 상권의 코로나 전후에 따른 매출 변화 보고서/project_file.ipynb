{
 "cells": [
  {
   "cell_type": "code",
   "execution_count": 1,
   "metadata": {},
   "outputs": [],
   "source": [
    "import pandas as pd\n",
    "import numpy as np"
   ]
  },
  {
   "cell_type": "code",
   "execution_count": 10,
   "metadata": {},
   "outputs": [
    {
     "name": "stdout",
     "output_type": "stream",
     "text": [
      "(135578, 79)\n",
      "(132321, 79)\n",
      "(96895, 79)\n"
     ]
    }
   ],
   "source": [
    "# 연도 데이터(2019, 2020, 2021) 테이블로 변환\n",
    "\n",
    "# 변수 지정\n",
    "table_name = ['market_info', 'sales_quarter', 'sales_weekday_end', 'sales_weekday', 'sales_time', 'sales_gender', 'sales_age']\n",
    "table1_idx = [2,3,0,1,4,5,77]\n",
    "table2_idx = [2,4,78,6,7]\n",
    "table3_idx = [2,4,78,8,9,31,32,54,55]\n",
    "table4_idx = [2,4,78, *range(10,17), *range(33,40), *range(56,63)]\n",
    "table5_idx = [2,4,78, *range(17,23), *range(40,46), *range(63,69)]\n",
    "table6_idx = [2,4,78,23,24,46,47,69,70]\n",
    "table7_idx = [2,4,78, *range(25,31), *range(48,54), *range(71,77)]\n",
    "\n",
    "\n",
    "for i in [2019, 2020, 2021]:\n",
    "#파일 불러오기\n",
    "    dir = 'Seoul_Commercial_Area_Subway/CommercialAreaData/{0}/서울_상권_매출_{0}.csv'.format(i)\n",
    "    data = pd.read_csv(dir, encoding='cp949')\n",
    "#년도 + 분기를 날짜 데이터로 변환\n",
    "    data['분기'] =data['기준_년_코드'].astype(str)+'-Q' + data['기준_분기_코드'].astype(str)\n",
    "    data['분기'] = pd.to_datetime(data['분기'])\n",
    "\n",
    "    data.drop(['기준_년_코드'], axis=1, inplace=True)\n",
    "    data.drop(['기준_분기_코드'], axis=1, inplace=True)\n",
    "#데이터 타입(카테고리) 변환    \n",
    "    category_col = ['상권_구분_코드', '상권_구분_코드_명', '서비스_업종_코드', '서비스_업종_코드_명']\n",
    "    for k in category_col:\n",
    "        data[k] = data[k].astype('category')\n",
    "#cp949 encoding 시 \"&\"가 깨지므로, \"_\"으로 치환한다.\n",
    "    data['상권_코드_명'] = data['상권_코드_명'].replace(\"?\", \"_\")\n",
    "    print(data.shape)\n",
    "\n",
    "# CSV 파일로 내보내기\n",
    "    for j in range(1, 8):\n",
    "        name = str(table_name[j-1]) + '_' + str(i)\n",
    "        idx = \"table{j}_idx\".format(j=j)\n",
    "        locals()[name] = data.iloc[:, locals()[idx]]\n",
    "        locals()[name].to_csv(\"{name}.csv\".format(name = name), index=0, encoding='utf8')"
   ]
  },
  {
   "cell_type": "code",
   "execution_count": null,
   "metadata": {},
   "outputs": [],
   "source": []
  }
 ],
 "metadata": {
  "kernelspec": {
   "display_name": "Python 3.8.9 64-bit",
   "language": "python",
   "name": "python3"
  },
  "language_info": {
   "codemirror_mode": {
    "name": "ipython",
    "version": 3
   },
   "file_extension": ".py",
   "mimetype": "text/x-python",
   "name": "python",
   "nbconvert_exporter": "python",
   "pygments_lexer": "ipython3",
   "version": "3.8.9"
  },
  "orig_nbformat": 4,
  "vscode": {
   "interpreter": {
    "hash": "31f2aee4e71d21fbe5cf8b01ff0e069b9275f58929596ceb00d14d90e3e16cd6"
   }
  }
 },
 "nbformat": 4,
 "nbformat_minor": 2
}
